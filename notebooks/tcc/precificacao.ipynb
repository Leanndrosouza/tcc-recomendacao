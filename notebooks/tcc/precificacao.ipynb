{
 "cells": [
  {
   "cell_type": "markdown",
   "id": "873af33e-c578-4f31-b19d-714f5fdf4b45",
   "metadata": {},
   "source": [
    "## Algoritmo de Precificação de imóveis"
   ]
  },
  {
   "cell_type": "code",
   "execution_count": 33,
   "id": "a5a4df14-3cd1-4ada-9bdd-81508a9d0b14",
   "metadata": {},
   "outputs": [],
   "source": [
    "import numpy as np\n",
    "import pandas as pd\n",
    "import re\n",
    "# disable chained assignments\n",
    "pd.options.mode.chained_assignment = None "
   ]
  },
  {
   "cell_type": "markdown",
   "id": "07064eab-5b5e-4e9b-963d-7137693d4c51",
   "metadata": {},
   "source": [
    "## Leitura da base de dados"
   ]
  },
  {
   "cell_type": "code",
   "execution_count": 20,
   "id": "ac58d874-a31a-45d3-8850-bfa25f9e3838",
   "metadata": {},
   "outputs": [
    {
     "data": {
      "text/html": [
       "<div>\n",
       "<style scoped>\n",
       "    .dataframe tbody tr th:only-of-type {\n",
       "        vertical-align: middle;\n",
       "    }\n",
       "\n",
       "    .dataframe tbody tr th {\n",
       "        vertical-align: top;\n",
       "    }\n",
       "\n",
       "    .dataframe thead th {\n",
       "        text-align: right;\n",
       "    }\n",
       "</style>\n",
       "<table border=\"1\" class=\"dataframe\">\n",
       "  <thead>\n",
       "    <tr style=\"text-align: right;\">\n",
       "      <th></th>\n",
       "      <th>_id</th>\n",
       "      <th>codigo</th>\n",
       "      <th>titulo</th>\n",
       "      <th>preco</th>\n",
       "      <th>data_publicacao</th>\n",
       "      <th>link</th>\n",
       "      <th>caracteristicas</th>\n",
       "      <th>descricao</th>\n",
       "      <th>created_at</th>\n",
       "    </tr>\n",
       "  </thead>\n",
       "  <tbody>\n",
       "    <tr>\n",
       "      <th>0</th>\n",
       "      <td>{'$oid': '607458fa77dee513e95c7f1c'}</td>\n",
       "      <td>749629484</td>\n",
       "      <td>Parque Alameda Real - Apartamento 2 quartos em...</td>\n",
       "      <td>R$ 138.900</td>\n",
       "      <td>12/04 às 11:19</td>\n",
       "      <td>https://se.olx.com.br/sergipe/imoveis/parque-a...</td>\n",
       "      <td>{'categoria': 'Apartamentos', 'tipo': 'Venda -...</td>\n",
       "      <td>Código do anúncio: 3716\\nParque Alameda Real |...</td>\n",
       "      <td>{'$date': '2021-04-12T14:28:10.612Z'}</td>\n",
       "    </tr>\n",
       "    <tr>\n",
       "      <th>1</th>\n",
       "      <td>{'$oid': '607458ff77dee513e95c7f1d'}</td>\n",
       "      <td>868448367</td>\n",
       "      <td>::Ecoville park</td>\n",
       "      <td>R$ 330.000</td>\n",
       "      <td>12/04 às 10:48</td>\n",
       "      <td>https://se.olx.com.br/sergipe/imoveis/ecoville...</td>\n",
       "      <td>{'categoria': 'Apartamentos', 'tipo': 'Venda -...</td>\n",
       "      <td>Ecoville park\\n  Localizado no bairro ponto no...</td>\n",
       "      <td>{'$date': '2021-04-12T14:28:14.990Z'}</td>\n",
       "    </tr>\n",
       "    <tr>\n",
       "      <th>2</th>\n",
       "      <td>{'$oid': '6074590377dee513e95c7f1e'}</td>\n",
       "      <td>868448657</td>\n",
       "      <td>::Ecoville park</td>\n",
       "      <td>R$ 330.000</td>\n",
       "      <td>12/04 às 10:49</td>\n",
       "      <td>https://se.olx.com.br/sergipe/imoveis/ecoville...</td>\n",
       "      <td>{'categoria': 'Apartamentos', 'tipo': 'Venda -...</td>\n",
       "      <td>Ecoville park\\n  Localizado no bairro ponto no...</td>\n",
       "      <td>{'$date': '2021-04-12T14:28:19.357Z'}</td>\n",
       "    </tr>\n",
       "  </tbody>\n",
       "</table>\n",
       "</div>"
      ],
      "text/plain": [
       "                                    _id     codigo  \\\n",
       "0  {'$oid': '607458fa77dee513e95c7f1c'}  749629484   \n",
       "1  {'$oid': '607458ff77dee513e95c7f1d'}  868448367   \n",
       "2  {'$oid': '6074590377dee513e95c7f1e'}  868448657   \n",
       "\n",
       "                                              titulo       preco  \\\n",
       "0  Parque Alameda Real - Apartamento 2 quartos em...  R$ 138.900   \n",
       "1                                    ::Ecoville park  R$ 330.000   \n",
       "2                                    ::Ecoville park  R$ 330.000   \n",
       "\n",
       "  data_publicacao                                               link  \\\n",
       "0  12/04 às 11:19  https://se.olx.com.br/sergipe/imoveis/parque-a...   \n",
       "1  12/04 às 10:48  https://se.olx.com.br/sergipe/imoveis/ecoville...   \n",
       "2  12/04 às 10:49  https://se.olx.com.br/sergipe/imoveis/ecoville...   \n",
       "\n",
       "                                     caracteristicas  \\\n",
       "0  {'categoria': 'Apartamentos', 'tipo': 'Venda -...   \n",
       "1  {'categoria': 'Apartamentos', 'tipo': 'Venda -...   \n",
       "2  {'categoria': 'Apartamentos', 'tipo': 'Venda -...   \n",
       "\n",
       "                                           descricao  \\\n",
       "0  Código do anúncio: 3716\\nParque Alameda Real |...   \n",
       "1  Ecoville park\\n  Localizado no bairro ponto no...   \n",
       "2  Ecoville park\\n  Localizado no bairro ponto no...   \n",
       "\n",
       "                              created_at  \n",
       "0  {'$date': '2021-04-12T14:28:10.612Z'}  \n",
       "1  {'$date': '2021-04-12T14:28:14.990Z'}  \n",
       "2  {'$date': '2021-04-12T14:28:19.357Z'}  "
      ]
     },
     "execution_count": 20,
     "metadata": {},
     "output_type": "execute_result"
    }
   ],
   "source": [
    "df_base = pd.read_json(\"assets/olx.json\", orient=\"records\", convert_dates=False)\n",
    "df_base.head(3)"
   ]
  },
  {
   "cell_type": "markdown",
   "id": "31c02495-f615-400b-83b2-01e58778dcd5",
   "metadata": {},
   "source": [
    "## Tratamento dos dados"
   ]
  },
  {
   "cell_type": "code",
   "execution_count": 68,
   "id": "dfc155c4-3898-461e-b1e7-ad8a810ed5ff",
   "metadata": {},
   "outputs": [],
   "source": [
    "df2 = pd.DataFrame(df_base.caracteristicas.apply(pd.Series))\n",
    "df = pd.concat([df_base, df2], axis=1)\n",
    "\n",
    "campos_numericos = ['preco', 'area_util', 'banheiros', 'quartos', 'vagas_na_garagem']\n",
    "campos_categoricos = ['bairro']\n",
    "\n",
    "for campo in campos_numericos:\n",
    "    df[campo] = df[campo].apply(str).apply(lambda x: re.sub('[^0-9]', '', x))\n",
    "    df[campo] = df[campo].apply(lambda x: 0 if x == '' else x).astype(float)\n",
    "    df[campo] = df[campo].astype(float)\n",
    "    \n",
    "df['preco'] = df['preco'].apply(lambda x: x*100 if x < 1000 else x)\n",
    "df['preco'] = df['preco'].apply(lambda x: x/1000 if x > 50000000 else x)\n",
    "\n",
    "df = df[campos_numericos + campos_categoricos]"
   ]
  },
  {
   "cell_type": "markdown",
   "id": "a4757cfe-14dc-48bd-be6f-342a97fbd59c",
   "metadata": {},
   "source": [
    "## Preenchendo valores vazios com a mediana"
   ]
  },
  {
   "cell_type": "code",
   "execution_count": 69,
   "id": "a0f24269-0d85-43f5-8f6f-1b4bb472b555",
   "metadata": {},
   "outputs": [
    {
     "data": {
      "text/html": [
       "<div>\n",
       "<style scoped>\n",
       "    .dataframe tbody tr th:only-of-type {\n",
       "        vertical-align: middle;\n",
       "    }\n",
       "\n",
       "    .dataframe tbody tr th {\n",
       "        vertical-align: top;\n",
       "    }\n",
       "\n",
       "    .dataframe thead th {\n",
       "        text-align: right;\n",
       "    }\n",
       "</style>\n",
       "<table border=\"1\" class=\"dataframe\">\n",
       "  <thead>\n",
       "    <tr style=\"text-align: right;\">\n",
       "      <th></th>\n",
       "      <th>preco</th>\n",
       "      <th>area_util</th>\n",
       "      <th>banheiros</th>\n",
       "      <th>quartos</th>\n",
       "      <th>vagas_na_garagem</th>\n",
       "      <th>bairro</th>\n",
       "    </tr>\n",
       "  </thead>\n",
       "  <tbody>\n",
       "    <tr>\n",
       "      <th>0</th>\n",
       "      <td>138900.0</td>\n",
       "      <td>40.0</td>\n",
       "      <td>2.0</td>\n",
       "      <td>3.0</td>\n",
       "      <td>1.0</td>\n",
       "      <td>Santa Maria</td>\n",
       "    </tr>\n",
       "    <tr>\n",
       "      <th>1</th>\n",
       "      <td>330000.0</td>\n",
       "      <td>62.0</td>\n",
       "      <td>2.0</td>\n",
       "      <td>3.0</td>\n",
       "      <td>1.0</td>\n",
       "      <td>Jardins</td>\n",
       "    </tr>\n",
       "    <tr>\n",
       "      <th>2</th>\n",
       "      <td>330000.0</td>\n",
       "      <td>62.0</td>\n",
       "      <td>2.0</td>\n",
       "      <td>3.0</td>\n",
       "      <td>1.0</td>\n",
       "      <td>Jardins</td>\n",
       "    </tr>\n",
       "  </tbody>\n",
       "</table>\n",
       "</div>"
      ],
      "text/plain": [
       "      preco  area_util  banheiros  quartos  vagas_na_garagem       bairro\n",
       "0  138900.0       40.0        2.0      3.0               1.0  Santa Maria\n",
       "1  330000.0       62.0        2.0      3.0               1.0      Jardins\n",
       "2  330000.0       62.0        2.0      3.0               1.0      Jardins"
      ]
     },
     "execution_count": 69,
     "metadata": {},
     "output_type": "execute_result"
    }
   ],
   "source": [
    "df = df.replace(to_replace=0.0, value=df.median(), method='ffill')\n",
    "df.head(3)"
   ]
  },
  {
   "cell_type": "markdown",
   "id": "e2bf2a47-993c-4069-9efa-68c1bc0d40ea",
   "metadata": {},
   "source": [
    "## Separando a base entre Treino e Teste"
   ]
  },
  {
   "cell_type": "code",
   "execution_count": 70,
   "id": "7c4654dd-24b7-4465-9acb-7b5e43a84717",
   "metadata": {},
   "outputs": [],
   "source": [
    "from sklearn.model_selection import train_test_split\n",
    "\n",
    "df_treino, df_test = train_test_split(df, test_size=0.3, random_state=2)"
   ]
  },
  {
   "cell_type": "markdown",
   "id": "a1247a42-ae24-490c-af0b-12824e3764e4",
   "metadata": {},
   "source": [
    "## Tratando váriaveis categóricas"
   ]
  },
  {
   "cell_type": "code",
   "execution_count": 71,
   "id": "8a80b6bd-afc3-4b3f-a462-9af0a512e751",
   "metadata": {},
   "outputs": [
    {
     "name": "stderr",
     "output_type": "stream",
     "text": [
      "/opt/conda/lib/python3.8/site-packages/category_encoders/utils.py:21: FutureWarning: is_categorical is deprecated and will be removed in a future version.  Use is_categorical_dtype instead\n",
      "  elif pd.api.types.is_categorical(cols):\n"
     ]
    }
   ],
   "source": [
    "from category_encoders import OrdinalEncoder\n",
    "enc = OrdinalEncoder(cols=campos_categoricos)\n",
    "enc.fit(df[campos_categoricos]);"
   ]
  },
  {
   "cell_type": "markdown",
   "id": "99ebc702-c776-473c-8ecc-54485152577d",
   "metadata": {},
   "source": [
    "## Treinando Modelos"
   ]
  },
  {
   "cell_type": "code",
   "execution_count": 72,
   "id": "f71fa071-9dcf-4dde-9838-6e521aec0b23",
   "metadata": {},
   "outputs": [],
   "source": [
    "def treina_modelo(modelo, df, colunas, objetivo):\n",
    "    X = df[colunas]\n",
    "    y = df[objetivo]\n",
    "\n",
    "    modelo.fit(X,y)\n",
    "    return modelo"
   ]
  },
  {
   "cell_type": "code",
   "execution_count": 73,
   "id": "a831b5a4-97df-472f-924d-63a3d3b9165e",
   "metadata": {},
   "outputs": [],
   "source": [
    "from sklearn.linear_model import LinearRegression\n",
    "from sklearn.ensemble import RandomForestRegressor\n",
    "from lightgbm import LGBMRegressor\n",
    "\n",
    "modelo_1 = LinearRegression(n_jobs=-1)\n",
    "modelo_2 = RandomForestRegressor(n_jobs=-1, random_state=0)\n",
    "modelo_3 = LGBMRegressor(objective='regression', random_state=0)\n",
    "\n",
    "objetivo = 'preco'\n",
    "if objetivo in campos_numericos:\n",
    "    campos_numericos.remove(objetivo)\n",
    "df_treino[campos_categoricos] = enc.transform(df_treino[campos_categoricos])\n",
    "\n",
    "model_1_treinado = treina_modelo(modelo_1, df_treino, campos_numericos + campos_categoricos, objetivo)\n",
    "model_2_treinado = treina_modelo(modelo_2, df_treino, campos_numericos + campos_categoricos, objetivo)\n",
    "model_3_treinado = treina_modelo(modelo_3, df_treino, campos_numericos + campos_categoricos, objetivo)"
   ]
  },
  {
   "cell_type": "markdown",
   "id": "dd8132e9-730c-459a-befd-f89e57c50758",
   "metadata": {},
   "source": [
    "## Aplicando modelos treinados"
   ]
  },
  {
   "cell_type": "code",
   "execution_count": 74,
   "id": "2034d26c-95f6-4de8-bb4e-0032e82b85ef",
   "metadata": {},
   "outputs": [],
   "source": [
    "df_test[campos_categoricos] = enc.transform(df_test[campos_categoricos])\n",
    "X_prev = df_test[campos_numericos + campos_categoricos]"
   ]
  },
  {
   "cell_type": "code",
   "execution_count": 75,
   "id": "f0be4f82-94c9-40b9-9d26-09c71b8d7638",
   "metadata": {},
   "outputs": [],
   "source": [
    "df_test['previsao_modelo_1'] = np.round(model_1_treinado.predict(X_prev))\n",
    "df_test['previsao_modelo_2'] = np.round(model_2_treinado.predict(X_prev))\n",
    "df_test['previsao_modelo_3'] = np.round(model_3_treinado.predict(X_prev))"
   ]
  },
  {
   "cell_type": "markdown",
   "id": "993d664d-5f65-4627-8215-ebbab04df930",
   "metadata": {},
   "source": [
    "## Avaliando erro"
   ]
  },
  {
   "cell_type": "code",
   "execution_count": 76,
   "id": "790f2f89-65a0-400b-8e1c-969e99fb138d",
   "metadata": {},
   "outputs": [],
   "source": [
    "from math import sqrt\n",
    "from sklearn.metrics import mean_squared_error\n",
    "\n",
    "def obter_erro_modelo(df_test, coluna_prev):\n",
    "    df_test[coluna_prev + '_err_abs'] = np.abs(df_test[coluna_prev] - df_test['preco'])\n",
    "    df_test[coluna_prev + '_err_rel'] = np.round(df_test[coluna_prev + '_err_abs']/df_test['preco'], 2)\n",
    "    \n",
    "def aplica_rmse(df, esperado, previsto):\n",
    "    return sqrt(mean_squared_error(df[esperado], df[previsto]))"
   ]
  },
  {
   "cell_type": "code",
   "execution_count": 77,
   "id": "372b1656-fcdc-4e50-8204-7c2010f91e48",
   "metadata": {},
   "outputs": [],
   "source": [
    "obter_erro_modelo(df_test, 'previsao_modelo_1')\n",
    "obter_erro_modelo(df_test, 'previsao_modelo_2')\n",
    "obter_erro_modelo(df_test, 'previsao_modelo_3')"
   ]
  },
  {
   "cell_type": "code",
   "execution_count": 78,
   "id": "af5b773a-b87e-4ffa-a67a-cec2d0d63d91",
   "metadata": {},
   "outputs": [
    {
     "data": {
      "text/plain": [
       "(208142.6787073563, 0.24, 0.6195341207349082)"
      ]
     },
     "execution_count": 78,
     "metadata": {},
     "output_type": "execute_result"
    }
   ],
   "source": [
    "df_test[['preco', 'previsao_modelo_1', 'previsao_modelo_1_err_abs', 'previsao_modelo_1_err_rel']]\n",
    "aplica_rmse(df_test, 'preco', 'previsao_modelo_1'), df_test['previsao_modelo_1_err_rel'].median(), df_test['previsao_modelo_1_err_rel'].mean()"
   ]
  },
  {
   "cell_type": "code",
   "execution_count": 79,
   "id": "a8332b9f-98d6-48b5-a292-58861c4a8254",
   "metadata": {},
   "outputs": [
    {
     "data": {
      "text/plain": [
       "(139858.24861881798, 0.1, 0.32439632545931757)"
      ]
     },
     "execution_count": 79,
     "metadata": {},
     "output_type": "execute_result"
    }
   ],
   "source": [
    "df_test[['preco', 'previsao_modelo_2', 'previsao_modelo_2_err_abs', 'previsao_modelo_2_err_rel']]\n",
    "aplica_rmse(df_test, 'preco', 'previsao_modelo_2'), df_test['previsao_modelo_2_err_rel'].median(), df_test['previsao_modelo_2_err_rel'].mean()"
   ]
  },
  {
   "cell_type": "code",
   "execution_count": 80,
   "id": "f7a3dfeb-5472-42d1-a80d-15d6503ffa1d",
   "metadata": {},
   "outputs": [
    {
     "data": {
      "text/plain": [
       "(149379.30108660978, 0.12, 0.4122900262467191)"
      ]
     },
     "execution_count": 80,
     "metadata": {},
     "output_type": "execute_result"
    }
   ],
   "source": [
    "df_test[['preco', 'previsao_modelo_3', 'previsao_modelo_3_err_abs', 'previsao_modelo_3_err_rel']]\n",
    "aplica_rmse(df_test, 'preco', 'previsao_modelo_3'), df_test['previsao_modelo_3_err_rel'].median(), df_test['previsao_modelo_3_err_rel'].mean()"
   ]
  },
  {
   "cell_type": "markdown",
   "id": "56d067b7-90b5-465f-9ddd-a33c62b4302c",
   "metadata": {},
   "source": [
    "## Gráficos de Erro\n",
    "### Raiz quadrada do erro-médio (RMSE)\n",
    "### Mediana do erro relativo \n",
    "### Média do erro relativo"
   ]
  },
  {
   "cell_type": "code",
   "execution_count": 81,
   "id": "9d699f02-6639-4070-b0f6-c72393a7787b",
   "metadata": {},
   "outputs": [],
   "source": [
    "def obter_erros_grafico(df, coluna_previsao, nome_modelo):\n",
    "#     rmse = aplica_rmse(df, 'preco', coluna_previsao)\n",
    "    mediana = df_test[coluna_previsao+'_err_rel'].median()\n",
    "    media = df_test[coluna_previsao+'_err_rel'].mean()\n",
    "#     return [[rmse, 'rmse', nome_modelo], [mediana, 'mediana', nome_modelo], [media, 'media', nome_modelo]]\n",
    "    return [[mediana, 'mediana', nome_modelo], [media, 'media', nome_modelo]]"
   ]
  },
  {
   "cell_type": "code",
   "execution_count": 82,
   "id": "4abe7f97-8f2a-4e78-8219-4029928df06b",
   "metadata": {},
   "outputs": [
    {
     "data": {
      "text/html": [
       "<div>\n",
       "<style scoped>\n",
       "    .dataframe tbody tr th:only-of-type {\n",
       "        vertical-align: middle;\n",
       "    }\n",
       "\n",
       "    .dataframe tbody tr th {\n",
       "        vertical-align: top;\n",
       "    }\n",
       "\n",
       "    .dataframe thead th {\n",
       "        text-align: right;\n",
       "    }\n",
       "</style>\n",
       "<table border=\"1\" class=\"dataframe\">\n",
       "  <thead>\n",
       "    <tr style=\"text-align: right;\">\n",
       "      <th></th>\n",
       "      <th>erro</th>\n",
       "      <th>metrica</th>\n",
       "      <th>modelo</th>\n",
       "    </tr>\n",
       "  </thead>\n",
       "  <tbody>\n",
       "    <tr>\n",
       "      <th>0</th>\n",
       "      <td>0.240000</td>\n",
       "      <td>mediana</td>\n",
       "      <td>RL</td>\n",
       "    </tr>\n",
       "    <tr>\n",
       "      <th>1</th>\n",
       "      <td>0.619534</td>\n",
       "      <td>media</td>\n",
       "      <td>RL</td>\n",
       "    </tr>\n",
       "    <tr>\n",
       "      <th>2</th>\n",
       "      <td>0.100000</td>\n",
       "      <td>mediana</td>\n",
       "      <td>RFA</td>\n",
       "    </tr>\n",
       "    <tr>\n",
       "      <th>3</th>\n",
       "      <td>0.324396</td>\n",
       "      <td>media</td>\n",
       "      <td>RFA</td>\n",
       "    </tr>\n",
       "    <tr>\n",
       "      <th>4</th>\n",
       "      <td>0.120000</td>\n",
       "      <td>mediana</td>\n",
       "      <td>LGBM</td>\n",
       "    </tr>\n",
       "    <tr>\n",
       "      <th>5</th>\n",
       "      <td>0.412290</td>\n",
       "      <td>media</td>\n",
       "      <td>LGBM</td>\n",
       "    </tr>\n",
       "  </tbody>\n",
       "</table>\n",
       "</div>"
      ],
      "text/plain": [
       "       erro  metrica modelo\n",
       "0  0.240000  mediana     RL\n",
       "1  0.619534    media     RL\n",
       "2  0.100000  mediana    RFA\n",
       "3  0.324396    media    RFA\n",
       "4  0.120000  mediana   LGBM\n",
       "5  0.412290    media   LGBM"
      ]
     },
     "execution_count": 82,
     "metadata": {},
     "output_type": "execute_result"
    }
   ],
   "source": [
    "import matplotlib.pyplot as plt\n",
    "import seaborn as sns\n",
    "\n",
    "array_erros = (obter_erros_grafico(df_test, 'previsao_modelo_1', 'RL') + \n",
    "               obter_erros_grafico(df_test, 'previsao_modelo_2', 'RFA') + \n",
    "               obter_erros_grafico(df_test, 'previsao_modelo_3', 'LGBM'))\n",
    "\n",
    "dados_erros = pd.DataFrame(np.array(array_erros), columns=['erro', 'metrica', 'modelo'])\n",
    "dados_erros['erro'] = dados_erros['erro'].astype(float)\n",
    "dados_erros"
   ]
  },
  {
   "cell_type": "code",
   "execution_count": 83,
   "id": "3ede5f4c-e656-4efc-a536-5f0d20bfa101",
   "metadata": {},
   "outputs": [
    {
     "data": {
      "image/png": "[encoded data removed]",
      "text/plain": [
       "<Figure size 720x288 with 2 Axes>"
      ]
     },
     "metadata": {
      "needs_background": "light"
     },
     "output_type": "display_data"
    }
   ],
   "source": [
    "fig, axes = plt.subplots(nrows=1, ncols=2, figsize=(10,4))\n",
    "\n",
    "# g = sns.barplot(x='modelo',\n",
    "#                  y='erro',\n",
    "#                  data=dados_erros[dados_erros['metrica'] == 'rmse'],\n",
    "#                  ax=axes[0])\n",
    "# g.set(xlabel='Modelos', ylabel='RMSE')\n",
    "\n",
    "g = sns.barplot(x='modelo',\n",
    "                 y='erro',\n",
    "                 data=dados_erros[dados_erros['metrica'] == 'mediana'],\n",
    "                 ax=axes[0])\n",
    "g.set(xlabel='Modelos', ylabel='Média do erro relativo')\n",
    "\n",
    "g = sns.barplot(x='modelo',\n",
    "                 y='erro',\n",
    "                 data=dados_erros[dados_erros['metrica'] == 'media'],\n",
    "                 ax=axes[1])\n",
    "g.set(xlabel='Modelos', ylabel='Mediana do erro relativo')\n",
    "\n",
    "plt.tight_layout()\n",
    "plt.show()"
   ]
  },
  {
   "cell_type": "markdown",
   "id": "ead4521c-ed97-446d-8da3-517794fd2185",
   "metadata": {},
   "source": [
    "## Aplicando o modelo na base completa"
   ]
  },
  {
   "cell_type": "code",
   "execution_count": 20,
   "id": "d96eb3b6-be0b-4a9f-92f5-c43f98065649",
   "metadata": {},
   "outputs": [
    {
     "data": {
      "text/html": [
       "<div>\n",
       "<style scoped>\n",
       "    .dataframe tbody tr th:only-of-type {\n",
       "        vertical-align: middle;\n",
       "    }\n",
       "\n",
       "    .dataframe tbody tr th {\n",
       "        vertical-align: top;\n",
       "    }\n",
       "\n",
       "    .dataframe thead th {\n",
       "        text-align: right;\n",
       "    }\n",
       "</style>\n",
       "<table border=\"1\" class=\"dataframe\">\n",
       "  <thead>\n",
       "    <tr style=\"text-align: right;\">\n",
       "      <th></th>\n",
       "      <th>preco</th>\n",
       "      <th>area_util</th>\n",
       "      <th>banheiros</th>\n",
       "      <th>quartos</th>\n",
       "      <th>vagas_na_garagem</th>\n",
       "      <th>bairro</th>\n",
       "      <th>valor_precificacao</th>\n",
       "    </tr>\n",
       "  </thead>\n",
       "  <tbody>\n",
       "    <tr>\n",
       "      <th>0</th>\n",
       "      <td>138900.0</td>\n",
       "      <td>40.0</td>\n",
       "      <td>2.0</td>\n",
       "      <td>3.0</td>\n",
       "      <td>1.0</td>\n",
       "      <td>1</td>\n",
       "      <td>143199.0</td>\n",
       "    </tr>\n",
       "    <tr>\n",
       "      <th>1</th>\n",
       "      <td>330000.0</td>\n",
       "      <td>62.0</td>\n",
       "      <td>2.0</td>\n",
       "      <td>3.0</td>\n",
       "      <td>1.0</td>\n",
       "      <td>2</td>\n",
       "      <td>369677.0</td>\n",
       "    </tr>\n",
       "    <tr>\n",
       "      <th>2</th>\n",
       "      <td>330000.0</td>\n",
       "      <td>62.0</td>\n",
       "      <td>2.0</td>\n",
       "      <td>3.0</td>\n",
       "      <td>1.0</td>\n",
       "      <td>2</td>\n",
       "      <td>369677.0</td>\n",
       "    </tr>\n",
       "    <tr>\n",
       "      <th>3</th>\n",
       "      <td>200001.0</td>\n",
       "      <td>61.0</td>\n",
       "      <td>2.0</td>\n",
       "      <td>2.0</td>\n",
       "      <td>1.0</td>\n",
       "      <td>3</td>\n",
       "      <td>200004.0</td>\n",
       "    </tr>\n",
       "    <tr>\n",
       "      <th>4</th>\n",
       "      <td>330000.0</td>\n",
       "      <td>62.0</td>\n",
       "      <td>2.0</td>\n",
       "      <td>3.0</td>\n",
       "      <td>1.0</td>\n",
       "      <td>2</td>\n",
       "      <td>369677.0</td>\n",
       "    </tr>\n",
       "    <tr>\n",
       "      <th>...</th>\n",
       "      <td>...</td>\n",
       "      <td>...</td>\n",
       "      <td>...</td>\n",
       "      <td>...</td>\n",
       "      <td>...</td>\n",
       "      <td>...</td>\n",
       "      <td>...</td>\n",
       "    </tr>\n",
       "    <tr>\n",
       "      <th>5074</th>\n",
       "      <td>220000.0</td>\n",
       "      <td>78.0</td>\n",
       "      <td>1.0</td>\n",
       "      <td>3.0</td>\n",
       "      <td>1.0</td>\n",
       "      <td>9</td>\n",
       "      <td>243852.0</td>\n",
       "    </tr>\n",
       "    <tr>\n",
       "      <th>5075</th>\n",
       "      <td>280050.0</td>\n",
       "      <td>123.0</td>\n",
       "      <td>3.0</td>\n",
       "      <td>4.0</td>\n",
       "      <td>1.0</td>\n",
       "      <td>8</td>\n",
       "      <td>280028.0</td>\n",
       "    </tr>\n",
       "    <tr>\n",
       "      <th>5076</th>\n",
       "      <td>98000.0</td>\n",
       "      <td>62.0</td>\n",
       "      <td>1.0</td>\n",
       "      <td>2.0</td>\n",
       "      <td>1.0</td>\n",
       "      <td>28</td>\n",
       "      <td>112142.0</td>\n",
       "    </tr>\n",
       "    <tr>\n",
       "      <th>5077</th>\n",
       "      <td>268509.0</td>\n",
       "      <td>64.0</td>\n",
       "      <td>2.0</td>\n",
       "      <td>3.0</td>\n",
       "      <td>1.0</td>\n",
       "      <td>16</td>\n",
       "      <td>225614.0</td>\n",
       "    </tr>\n",
       "    <tr>\n",
       "      <th>5078</th>\n",
       "      <td>110000.0</td>\n",
       "      <td>60.0</td>\n",
       "      <td>1.0</td>\n",
       "      <td>3.0</td>\n",
       "      <td>1.0</td>\n",
       "      <td>9</td>\n",
       "      <td>161522.0</td>\n",
       "    </tr>\n",
       "  </tbody>\n",
       "</table>\n",
       "<p>5079 rows × 7 columns</p>\n",
       "</div>"
      ],
      "text/plain": [
       "         preco  area_util  banheiros  quartos  vagas_na_garagem  bairro  \\\n",
       "0     138900.0       40.0        2.0      3.0               1.0       1   \n",
       "1     330000.0       62.0        2.0      3.0               1.0       2   \n",
       "2     330000.0       62.0        2.0      3.0               1.0       2   \n",
       "3     200001.0       61.0        2.0      2.0               1.0       3   \n",
       "4     330000.0       62.0        2.0      3.0               1.0       2   \n",
       "...        ...        ...        ...      ...               ...     ...   \n",
       "5074  220000.0       78.0        1.0      3.0               1.0       9   \n",
       "5075  280050.0      123.0        3.0      4.0               1.0       8   \n",
       "5076   98000.0       62.0        1.0      2.0               1.0      28   \n",
       "5077  268509.0       64.0        2.0      3.0               1.0      16   \n",
       "5078  110000.0       60.0        1.0      3.0               1.0       9   \n",
       "\n",
       "      valor_precificacao  \n",
       "0               143199.0  \n",
       "1               369677.0  \n",
       "2               369677.0  \n",
       "3               200004.0  \n",
       "4               369677.0  \n",
       "...                  ...  \n",
       "5074            243852.0  \n",
       "5075            280028.0  \n",
       "5076            112142.0  \n",
       "5077            225614.0  \n",
       "5078            161522.0  \n",
       "\n",
       "[5079 rows x 7 columns]"
      ]
     },
     "execution_count": 20,
     "metadata": {},
     "output_type": "execute_result"
    }
   ],
   "source": [
    "modelo = RandomForestRegressor(n_jobs=-1, random_state=0)\n",
    "df_final = df.copy()\n",
    "\n",
    "objetivo = 'preco'\n",
    "if objetivo in campos_numericos:\n",
    "    campos_numericos.remove(objetivo)\n",
    "df_final[campos_categoricos] = enc.transform(df_final[campos_categoricos])\n",
    "\n",
    "model_treinado = treina_modelo(modelo, df_final, campos_numericos + campos_categoricos, objetivo)\n",
    "\n",
    "df_final['valor_precificacao'] = np.round(model_treinado.predict(df_final[campos_numericos + campos_categoricos]))\n",
    "df_final"
   ]
  },
  {
   "cell_type": "code",
   "execution_count": 21,
   "id": "8d197f15-868b-4e38-97dd-84630965263c",
   "metadata": {},
   "outputs": [
    {
     "data": {
      "text/plain": [
       "(0.06, 0.4194132703288048)"
      ]
     },
     "execution_count": 21,
     "metadata": {},
     "output_type": "execute_result"
    }
   ],
   "source": [
    "obter_erro_modelo(df_final, 'valor_precificacao')\n",
    "df_final.valor_precificacao_err_rel.median(), df_final.valor_precificacao_err_rel.mean()"
   ]
  },
  {
   "cell_type": "code",
   "execution_count": 22,
   "id": "2fb50fd7-3bbc-40c3-a7e4-74215f82c2fc",
   "metadata": {},
   "outputs": [],
   "source": [
    "from sklearn.metrics import mean_squared_error\n",
    "from math import sqrt\n",
    "\n",
    "rmse = sqrt(mean_squared_error(df_final['preco'], df_final['valor_precificacao']))"
   ]
  },
  {
   "cell_type": "code",
   "execution_count": 23,
   "id": "48fd62c3-076c-49dc-a9f4-4e7b355bb9b3",
   "metadata": {},
   "outputs": [
    {
     "data": {
      "text/plain": [
       "4453598.4603293305"
      ]
     },
     "execution_count": 23,
     "metadata": {},
     "output_type": "execute_result"
    }
   ],
   "source": [
    "rmse"
   ]
  }
 ],
 "metadata": {
  "kernelspec": {
   "display_name": "Python 3 (ipykernel)",
   "language": "python",
   "name": "python3"
  },
  "language_info": {
   "codemirror_mode": {
    "name": "ipython",
    "version": 3
   },
   "file_extension": ".py",
   "mimetype": "text/x-python",
   "name": "python",
   "nbconvert_exporter": "python",
   "pygments_lexer": "ipython3",
   "version": "3.8.3"
  }
 },
 "nbformat": 4,
 "nbformat_minor": 5
}
