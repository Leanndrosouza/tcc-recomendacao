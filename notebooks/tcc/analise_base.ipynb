{
 "cells": [
  {
   "cell_type": "markdown",
   "id": "39f92915-2d9e-43fb-9757-6dbe963a9712",
   "metadata": {},
   "source": [
    "## Analise sobre a Base de Dados"
   ]
  },
  {
   "cell_type": "code",
   "execution_count": 91,
   "id": "67d4e412-a9c7-4a12-a19f-05d0fc6022fb",
   "metadata": {},
   "outputs": [],
   "source": [
    "import seaborn as sns\n",
    "import matplotlib.pyplot as plt\n",
    "import numpy as np\n",
    "import pandas as pd\n",
    "import re\n",
    "# disable chained assignments\n",
    "pd.options.mode.chained_assignment = None "
   ]
  },
  {
   "cell_type": "code",
   "execution_count": 188,
   "id": "e57aa6d9-8d41-402c-a6c9-536f8c240c7f",
   "metadata": {},
   "outputs": [
    {
     "data": {
      "text/html": [
       "<div>\n",
       "<style scoped>\n",
       "    .dataframe tbody tr th:only-of-type {\n",
       "        vertical-align: middle;\n",
       "    }\n",
       "\n",
       "    .dataframe tbody tr th {\n",
       "        vertical-align: top;\n",
       "    }\n",
       "\n",
       "    .dataframe thead th {\n",
       "        text-align: right;\n",
       "    }\n",
       "</style>\n",
       "<table border=\"1\" class=\"dataframe\">\n",
       "  <thead>\n",
       "    <tr style=\"text-align: right;\">\n",
       "      <th></th>\n",
       "      <th>preco</th>\n",
       "      <th>area_util</th>\n",
       "      <th>banheiros</th>\n",
       "      <th>quartos</th>\n",
       "      <th>vagas_na_garagem</th>\n",
       "      <th>bairro</th>\n",
       "    </tr>\n",
       "  </thead>\n",
       "  <tbody>\n",
       "    <tr>\n",
       "      <th>0</th>\n",
       "      <td>138900.0</td>\n",
       "      <td>40.0</td>\n",
       "      <td>0.0</td>\n",
       "      <td>0.0</td>\n",
       "      <td>0.0</td>\n",
       "      <td>Santa Maria</td>\n",
       "    </tr>\n",
       "    <tr>\n",
       "      <th>1</th>\n",
       "      <td>330000.0</td>\n",
       "      <td>0.0</td>\n",
       "      <td>2.0</td>\n",
       "      <td>3.0</td>\n",
       "      <td>1.0</td>\n",
       "      <td>Jardins</td>\n",
       "    </tr>\n",
       "    <tr>\n",
       "      <th>2</th>\n",
       "      <td>330000.0</td>\n",
       "      <td>0.0</td>\n",
       "      <td>2.0</td>\n",
       "      <td>3.0</td>\n",
       "      <td>1.0</td>\n",
       "      <td>Jardins</td>\n",
       "    </tr>\n",
       "  </tbody>\n",
       "</table>\n",
       "</div>"
      ],
      "text/plain": [
       "      preco  area_util  banheiros  quartos  vagas_na_garagem       bairro\n",
       "0  138900.0       40.0        0.0      0.0               0.0  Santa Maria\n",
       "1  330000.0        0.0        2.0      3.0               1.0      Jardins\n",
       "2  330000.0        0.0        2.0      3.0               1.0      Jardins"
      ]
     },
     "execution_count": 188,
     "metadata": {},
     "output_type": "execute_result"
    }
   ],
   "source": [
    "df_base = pd.read_json(\"assets/olx.json\", orient=\"records\", convert_dates=False)\n",
    "df_base.head(3)\n",
    "\n",
    "df2 = pd.DataFrame(df_base.caracteristicas.apply(pd.Series))\n",
    "df = pd.concat([df_base, df2], axis=1)\n",
    "\n",
    "campos_numericos = ['preco', 'area_util', 'banheiros', 'quartos', 'vagas_na_garagem']\n",
    "campos_categoricos = ['bairro']\n",
    "\n",
    "for campo in campos_numericos:\n",
    "    df[campo] = df[campo].apply(str).apply(lambda x: re.sub('[^0-9]', '', x))\n",
    "    df[campo] = df[campo].apply(lambda x: 0 if x == '' else x).astype(float)\n",
    "    df[campo] = df[campo].astype(float)\n",
    "    \n",
    "df['preco'] = df['preco'].apply(lambda x: x*1000 if x < 1000 else x)\n",
    "df['preco'] = df['preco'].apply(lambda x: x/1000 if x > 50000000 else x)\n",
    "\n",
    "df = df[campos_numericos + campos_categoricos]\n",
    "df.head(3)"
   ]
  },
  {
   "cell_type": "markdown",
   "id": "81d650c4-b0b4-4f83-b85b-a27486c26ef2",
   "metadata": {},
   "source": [
    "## Preenchendo valores vazios"
   ]
  },
  {
   "cell_type": "code",
   "execution_count": 189,
   "id": "d4f501a6-eab0-4dc7-ba4d-e0a99c8db5a4",
   "metadata": {},
   "outputs": [
    {
     "data": {
      "text/html": [
       "<div>\n",
       "<style scoped>\n",
       "    .dataframe tbody tr th:only-of-type {\n",
       "        vertical-align: middle;\n",
       "    }\n",
       "\n",
       "    .dataframe tbody tr th {\n",
       "        vertical-align: top;\n",
       "    }\n",
       "\n",
       "    .dataframe thead th {\n",
       "        text-align: right;\n",
       "    }\n",
       "</style>\n",
       "<table border=\"1\" class=\"dataframe\">\n",
       "  <thead>\n",
       "    <tr style=\"text-align: right;\">\n",
       "      <th></th>\n",
       "      <th>preco</th>\n",
       "      <th>area_util</th>\n",
       "      <th>banheiros</th>\n",
       "      <th>quartos</th>\n",
       "      <th>vagas_na_garagem</th>\n",
       "      <th>bairro</th>\n",
       "    </tr>\n",
       "  </thead>\n",
       "  <tbody>\n",
       "    <tr>\n",
       "      <th>0</th>\n",
       "      <td>138900.0</td>\n",
       "      <td>40.0</td>\n",
       "      <td>2.0</td>\n",
       "      <td>3.0</td>\n",
       "      <td>1.0</td>\n",
       "      <td>Santa Maria</td>\n",
       "    </tr>\n",
       "    <tr>\n",
       "      <th>1</th>\n",
       "      <td>330000.0</td>\n",
       "      <td>62.0</td>\n",
       "      <td>2.0</td>\n",
       "      <td>3.0</td>\n",
       "      <td>1.0</td>\n",
       "      <td>Jardins</td>\n",
       "    </tr>\n",
       "    <tr>\n",
       "      <th>2</th>\n",
       "      <td>330000.0</td>\n",
       "      <td>62.0</td>\n",
       "      <td>2.0</td>\n",
       "      <td>3.0</td>\n",
       "      <td>1.0</td>\n",
       "      <td>Jardins</td>\n",
       "    </tr>\n",
       "  </tbody>\n",
       "</table>\n",
       "</div>"
      ],
      "text/plain": [
       "      preco  area_util  banheiros  quartos  vagas_na_garagem       bairro\n",
       "0  138900.0       40.0        2.0      3.0               1.0  Santa Maria\n",
       "1  330000.0       62.0        2.0      3.0               1.0      Jardins\n",
       "2  330000.0       62.0        2.0      3.0               1.0      Jardins"
      ]
     },
     "execution_count": 189,
     "metadata": {},
     "output_type": "execute_result"
    }
   ],
   "source": [
    "df = df.replace(to_replace=0.0, value=df.median(), method='ffill')\n",
    "df.head(3)"
   ]
  },
  {
   "cell_type": "code",
   "execution_count": 207,
   "id": "1a9b169b-8e61-4398-a564-6e0f9c14237f",
   "metadata": {},
   "outputs": [],
   "source": [
    "def plot_grafico(df, x, y, xlabel, ylabel):\n",
    "    fig, axes = plt.subplots(nrows=1, ncols=1, figsize=(12,4))\n",
    "    sns.barplot(x=x, y=y, data=df).set(xlabel=xlabel, ylabel=ylabel)\n",
    "\n",
    "    plt.ticklabel_format(style='plain', axis='y')\n",
    "    plt.tight_layout()\n",
    "    plt.show()"
   ]
  },
  {
   "cell_type": "markdown",
   "id": "e81a8c29-3307-4e83-824b-f95742dda0d3",
   "metadata": {},
   "source": [
    "## Correlação entre caracteristicas e preço"
   ]
  },
  {
   "cell_type": "code",
   "execution_count": 208,
   "id": "102f6fa2-17a7-4648-8fa8-b21fed954b2c",
   "metadata": {},
   "outputs": [
    {
     "data": {
      "image/png": "[encoded data removed]",
      "text/plain": [
       "<Figure size 864x288 with 1 Axes>"
      ]
     },
     "metadata": {
      "needs_background": "light"
     },
     "output_type": "display_data"
    }
   ],
   "source": [
    "df_h1 = pd.DataFrame(df.corr().abs()['preco']).sort_values(by='preco', ascending=False)\n",
    "df_h1['campo'] = df_h1.index\n",
    "\n",
    "plot_grafico(df_h1, \"campo\", \"preco\", 'Caracteristicas', 'Correlação')"
   ]
  },
  {
   "cell_type": "markdown",
   "id": "62e50d29-9e67-45cd-941a-789786e55e6d",
   "metadata": {},
   "source": [
    "## Correlação entre caracteristicas no mesmo bairro"
   ]
  },
  {
   "cell_type": "code",
   "execution_count": 209,
   "id": "b57c9b84-4917-4b58-a514-a0e854cba8dd",
   "metadata": {},
   "outputs": [
    {
     "data": {
      "image/png": "[encoded data removed]",
      "text/plain": [
       "<Figure size 864x288 with 1 Axes>"
      ]
     },
     "metadata": {
      "needs_background": "light"
     },
     "output_type": "display_data"
    }
   ],
   "source": [
    "df_h2 = pd.DataFrame(df[df['bairro'] == 'Atalaia'].corr()['preco']).sort_values(by='preco', ascending=False)\n",
    "df_h2['campo'] = df_h2.index\n",
    "\n",
    "plot_grafico(df_h2, \"campo\", \"preco\", 'Caracteristicas', 'Correlação')"
   ]
  },
  {
   "cell_type": "markdown",
   "id": "f2f3ddaa-536c-4db9-ac72-b1f79419f3b0",
   "metadata": {},
   "source": [
    "## Correlação entre caracteristicas no mesmo Jardins"
   ]
  },
  {
   "cell_type": "code",
   "execution_count": 219,
   "id": "dff18d56-a0ec-46d6-87d6-be65657c996d",
   "metadata": {},
   "outputs": [
    {
     "data": {
      "image/png": "[encoded data removed]",
      "text/plain": [
       "<Figure size 864x288 with 1 Axes>"
      ]
     },
     "metadata": {
      "needs_background": "light"
     },
     "output_type": "display_data"
    }
   ],
   "source": [
    "df_h2 = pd.DataFrame(df[df['bairro'] == 'Jardins'].corr()['preco']).sort_values(by='preco', ascending=False)\n",
    "df_h2['campo'] = df_h2.index\n",
    "\n",
    "plot_grafico(df_h2, \"campo\", \"preco\", 'Caracteristicas', 'Correlação')"
   ]
  },
  {
   "cell_type": "markdown",
   "id": "977b8104-6e5e-4b4b-9d0d-c343539f852f",
   "metadata": {},
   "source": [
    "## Preço médio por bairro "
   ]
  },
  {
   "cell_type": "code",
   "execution_count": 210,
   "id": "5d13c3cb-95e5-49ed-babf-4ba0e7184fc9",
   "metadata": {},
   "outputs": [
    {
     "data": {
      "image/png": "[encoded data removed]",
      "text/plain": [
       "<Figure size 864x288 with 1 Axes>"
      ]
     },
     "metadata": {
      "needs_background": "light"
     },
     "output_type": "display_data"
    },
    {
     "data": {
      "image/png": "[encoded data removed]",
      "text/plain": [
       "<Figure size 864x288 with 1 Axes>"
      ]
     },
     "metadata": {
      "needs_background": "light"
     },
     "output_type": "display_data"
    }
   ],
   "source": [
    "df_aux = pd.DataFrame(df.groupby('bairro')['preco'].count())\n",
    "df_aux['bairro'] = df_aux.index\n",
    "df_aux['anuncios'] = df_aux['preco']\n",
    "\n",
    "bairros_validos = df_aux[df_aux['anuncios'] > 10]\n",
    "\n",
    "df_h3 = pd.DataFrame(df[df['bairro'].isin(list(bairros_validos.index))].groupby('bairro')['preco'].mean()).sort_values(by='preco', ascending=False)\n",
    "df_h3['bairro'] = df_h3.index\n",
    "\n",
    "plot_grafico(df_h3.iloc[0:6], \"bairro\", \"preco\", 'Bairros', 'Preço Médio')\n",
    "plot_grafico(df_h3.iloc[-6:], \"bairro\", \"preco\", 'Bairros', 'Preço Médio')"
   ]
  },
  {
   "cell_type": "markdown",
   "id": "44d8d7d3-5c6d-4e64-9920-3f9287efe000",
   "metadata": {},
   "source": [
    "## Anúncios por bairro"
   ]
  },
  {
   "cell_type": "code",
   "execution_count": 199,
   "id": "b66eedc8-d086-40c3-9dfb-a841efa080f7",
   "metadata": {},
   "outputs": [
    {
     "data": {
      "image/png": "[encoded data removed]",
      "text/plain": [
       "<Figure size 864x288 with 1 Axes>"
      ]
     },
     "metadata": {
      "needs_background": "light"
     },
     "output_type": "display_data"
    }
   ],
   "source": [
    "df_h4 = pd.DataFrame(df.groupby('bairro')['preco'].count()).sort_values(by='preco', ascending=False)\n",
    "df_h4['bairro'] = df_h4.index\n",
    "df_h4['anuncios'] = df_h4['preco']\n",
    "\n",
    "plot_grafico(df_h4.iloc[0:6], \"bairro\", \"anuncios\", 'Bairros', 'Quantidade de anúncios')"
   ]
  },
  {
   "cell_type": "markdown",
   "id": "e0e0004b-b43d-4e53-a3ff-c9791a47b443",
   "metadata": {},
   "source": [
    "## Area por bairro"
   ]
  },
  {
   "cell_type": "code",
   "execution_count": 223,
   "id": "06fc41ba-5985-403f-812c-45147eb9d8b5",
   "metadata": {},
   "outputs": [
    {
     "data": {
      "image/png": "[encoded data removed]",
      "text/plain": [
       "<Figure size 864x288 with 1 Axes>"
      ]
     },
     "metadata": {
      "needs_background": "light"
     },
     "output_type": "display_data"
    }
   ],
   "source": [
    "df_h4 = pd.DataFrame(df.groupby('bairro')['area_util'].mean()).sort_values(by='area_util', ascending=False)\n",
    "df_h4['bairro'] = df_h4.index\n",
    "\n",
    "plot_grafico(df_h4.iloc[0:12], \"bairro\", \"area_util\", 'Bairros', 'Área em Metros Quadrados')"
   ]
  },
  {
   "cell_type": "code",
   "execution_count": 225,
   "id": "fd99c1b5-3dfa-4430-8a2d-1198e6bc86e5",
   "metadata": {},
   "outputs": [
    {
     "data": {
      "text/html": [
       "<div>\n",
       "<style scoped>\n",
       "    .dataframe tbody tr th:only-of-type {\n",
       "        vertical-align: middle;\n",
       "    }\n",
       "\n",
       "    .dataframe tbody tr th {\n",
       "        vertical-align: top;\n",
       "    }\n",
       "\n",
       "    .dataframe thead th {\n",
       "        text-align: right;\n",
       "    }\n",
       "</style>\n",
       "<table border=\"1\" class=\"dataframe\">\n",
       "  <thead>\n",
       "    <tr style=\"text-align: right;\">\n",
       "      <th></th>\n",
       "      <th>preco</th>\n",
       "      <th>area_util</th>\n",
       "      <th>banheiros</th>\n",
       "      <th>quartos</th>\n",
       "      <th>vagas_na_garagem</th>\n",
       "      <th>bairro</th>\n",
       "    </tr>\n",
       "  </thead>\n",
       "  <tbody>\n",
       "    <tr>\n",
       "      <th>1853</th>\n",
       "      <td>110000.0</td>\n",
       "      <td>55.0</td>\n",
       "      <td>1.0</td>\n",
       "      <td>2.0</td>\n",
       "      <td>1.0</td>\n",
       "      <td>Porto D'Antas</td>\n",
       "    </tr>\n",
       "    <tr>\n",
       "      <th>2170</th>\n",
       "      <td>122000.0</td>\n",
       "      <td>48.0</td>\n",
       "      <td>1.0</td>\n",
       "      <td>2.0</td>\n",
       "      <td>1.0</td>\n",
       "      <td>Porto D'Antas</td>\n",
       "    </tr>\n",
       "    <tr>\n",
       "      <th>2192</th>\n",
       "      <td>120000.0</td>\n",
       "      <td>60.0</td>\n",
       "      <td>1.0</td>\n",
       "      <td>2.0</td>\n",
       "      <td>1.0</td>\n",
       "      <td>Porto D'Antas</td>\n",
       "    </tr>\n",
       "    <tr>\n",
       "      <th>2796</th>\n",
       "      <td>125000.0</td>\n",
       "      <td>43.0</td>\n",
       "      <td>1.0</td>\n",
       "      <td>2.0</td>\n",
       "      <td>1.0</td>\n",
       "      <td>Porto D'Antas</td>\n",
       "    </tr>\n",
       "    <tr>\n",
       "      <th>2921</th>\n",
       "      <td>270000.0</td>\n",
       "      <td>62.0</td>\n",
       "      <td>1.0</td>\n",
       "      <td>2.0</td>\n",
       "      <td>1.0</td>\n",
       "      <td>Porto D'Antas</td>\n",
       "    </tr>\n",
       "    <tr>\n",
       "      <th>3019</th>\n",
       "      <td>135000.0</td>\n",
       "      <td>62.0</td>\n",
       "      <td>1.0</td>\n",
       "      <td>2.0</td>\n",
       "      <td>1.0</td>\n",
       "      <td>Porto D'Antas</td>\n",
       "    </tr>\n",
       "    <tr>\n",
       "      <th>3021</th>\n",
       "      <td>122000.0</td>\n",
       "      <td>48.0</td>\n",
       "      <td>1.0</td>\n",
       "      <td>2.0</td>\n",
       "      <td>1.0</td>\n",
       "      <td>Porto D'Antas</td>\n",
       "    </tr>\n",
       "    <tr>\n",
       "      <th>3213</th>\n",
       "      <td>120000.0</td>\n",
       "      <td>55.0</td>\n",
       "      <td>1.0</td>\n",
       "      <td>2.0</td>\n",
       "      <td>1.0</td>\n",
       "      <td>Porto D'Antas</td>\n",
       "    </tr>\n",
       "    <tr>\n",
       "      <th>3420</th>\n",
       "      <td>100009.0</td>\n",
       "      <td>56.0</td>\n",
       "      <td>1.0</td>\n",
       "      <td>2.0</td>\n",
       "      <td>1.0</td>\n",
       "      <td>Porto D'Antas</td>\n",
       "    </tr>\n",
       "    <tr>\n",
       "      <th>3798</th>\n",
       "      <td>120000.0</td>\n",
       "      <td>51.0</td>\n",
       "      <td>1.0</td>\n",
       "      <td>2.0</td>\n",
       "      <td>1.0</td>\n",
       "      <td>Porto D'Antas</td>\n",
       "    </tr>\n",
       "    <tr>\n",
       "      <th>4118</th>\n",
       "      <td>100000.0</td>\n",
       "      <td>12116.0</td>\n",
       "      <td>1.0</td>\n",
       "      <td>2.0</td>\n",
       "      <td>1.0</td>\n",
       "      <td>Porto D'Antas</td>\n",
       "    </tr>\n",
       "    <tr>\n",
       "      <th>4209</th>\n",
       "      <td>115000.0</td>\n",
       "      <td>60.0</td>\n",
       "      <td>1.0</td>\n",
       "      <td>2.0</td>\n",
       "      <td>2.0</td>\n",
       "      <td>Porto D'Antas</td>\n",
       "    </tr>\n",
       "    <tr>\n",
       "      <th>4260</th>\n",
       "      <td>100000.0</td>\n",
       "      <td>56.0</td>\n",
       "      <td>1.0</td>\n",
       "      <td>2.0</td>\n",
       "      <td>1.0</td>\n",
       "      <td>Porto D'Antas</td>\n",
       "    </tr>\n",
       "    <tr>\n",
       "      <th>4492</th>\n",
       "      <td>116000.0</td>\n",
       "      <td>49.0</td>\n",
       "      <td>2.0</td>\n",
       "      <td>2.0</td>\n",
       "      <td>1.0</td>\n",
       "      <td>Porto D'Antas</td>\n",
       "    </tr>\n",
       "    <tr>\n",
       "      <th>4770</th>\n",
       "      <td>125132.0</td>\n",
       "      <td>43.0</td>\n",
       "      <td>1.0</td>\n",
       "      <td>2.0</td>\n",
       "      <td>1.0</td>\n",
       "      <td>Porto D'Antas</td>\n",
       "    </tr>\n",
       "  </tbody>\n",
       "</table>\n",
       "</div>"
      ],
      "text/plain": [
       "         preco  area_util  banheiros  quartos  vagas_na_garagem         bairro\n",
       "1853  110000.0       55.0        1.0      2.0               1.0  Porto D'Antas\n",
       "2170  122000.0       48.0        1.0      2.0               1.0  Porto D'Antas\n",
       "2192  120000.0       60.0        1.0      2.0               1.0  Porto D'Antas\n",
       "2796  125000.0       43.0        1.0      2.0               1.0  Porto D'Antas\n",
       "2921  270000.0       62.0        1.0      2.0               1.0  Porto D'Antas\n",
       "3019  135000.0       62.0        1.0      2.0               1.0  Porto D'Antas\n",
       "3021  122000.0       48.0        1.0      2.0               1.0  Porto D'Antas\n",
       "3213  120000.0       55.0        1.0      2.0               1.0  Porto D'Antas\n",
       "3420  100009.0       56.0        1.0      2.0               1.0  Porto D'Antas\n",
       "3798  120000.0       51.0        1.0      2.0               1.0  Porto D'Antas\n",
       "4118  100000.0    12116.0        1.0      2.0               1.0  Porto D'Antas\n",
       "4209  115000.0       60.0        1.0      2.0               2.0  Porto D'Antas\n",
       "4260  100000.0       56.0        1.0      2.0               1.0  Porto D'Antas\n",
       "4492  116000.0       49.0        2.0      2.0               1.0  Porto D'Antas\n",
       "4770  125132.0       43.0        1.0      2.0               1.0  Porto D'Antas"
      ]
     },
     "execution_count": 225,
     "metadata": {},
     "output_type": "execute_result"
    }
   ],
   "source": [
    "df[df['bairro'] == \"Porto D'Antas\"]"
   ]
  },
  {
   "cell_type": "code",
   "execution_count": 64,
   "id": "4645f7e8-d2e3-4cd5-a9ee-40c1c1210d33",
   "metadata": {},
   "outputs": [
    {
     "data": {
      "text/plain": [
       "[[426188.0774853378, 'rmse', 'RL'],\n",
       " [1.01, 'median', 'RL'],\n",
       " [2.4075853018372704, 'mean', 'RL'],\n",
       " [5008329.82160321, 'rmse', 'RFA'],\n",
       " [0.1, 'median', 'RFA'],\n",
       " [1.280951443569554, 'mean', 'RFA'],\n",
       " [2586190.72130947, 'rmse', 'LGBM'],\n",
       " [0.22, 'median', 'LGBM'],\n",
       " [1.8679461942257218, 'mean', 'LGBM']]"
      ]
     },
     "execution_count": 64,
     "metadata": {},
     "output_type": "execute_result"
    }
   ],
   "source": [
    "data = [426188.0774853378, 1.01, 2.4075853018372704,\n",
    "5008329.82160321, 0.1, 1.280951443569554,\n",
    "2586190.72130947, 0.22, 1.8679461942257218]\n",
    "\n",
    "for i, err in enumerate(data):\n",
    "    if i%3 == 0:\n",
    "        data[i] = [err, 'rmse']\n",
    "    if i%3 == 1:\n",
    "        data[i] = [err, 'median']\n",
    "    if i%3 == 2:\n",
    "        data[i] = [err, 'mean']\n",
    "        \n",
    "    if i < 3:\n",
    "        data[i] = data[i] + ['RL']\n",
    "    if i < 6 and i >= 3:\n",
    "        data[i] = data[i] + ['RFA']\n",
    "    if i < 9 and i >= 6:\n",
    "        data[i] = data[i] + ['LGBM']\n",
    "        \n",
    "data"
   ]
  },
  {
   "cell_type": "code",
   "execution_count": 28,
   "id": "3ea634c2-d890-47f6-a8aa-700cc8aa7652",
   "metadata": {},
   "outputs": [
    {
     "ename": "NameError",
     "evalue": "name 'data' is not defined",
     "output_type": "error",
     "traceback": [
      "\u001b[0;31m---------------------------------------------------------------------------\u001b[0m",
      "\u001b[0;31mNameError\u001b[0m                                 Traceback (most recent call last)",
      "\u001b[0;32m/tmp/ipykernel_148/978219564.py\u001b[0m in \u001b[0;36m<module>\u001b[0;34m\u001b[0m\n\u001b[0;32m----> 1\u001b[0;31m \u001b[0mdf\u001b[0m \u001b[0;34m=\u001b[0m \u001b[0mpd\u001b[0m\u001b[0;34m.\u001b[0m\u001b[0mDataFrame\u001b[0m\u001b[0;34m(\u001b[0m\u001b[0mnp\u001b[0m\u001b[0;34m.\u001b[0m\u001b[0marray\u001b[0m\u001b[0;34m(\u001b[0m\u001b[0mdata\u001b[0m\u001b[0;34m)\u001b[0m\u001b[0;34m,\u001b[0m\u001b[0mcolumns\u001b[0m\u001b[0;34m=\u001b[0m\u001b[0;34m[\u001b[0m\u001b[0;34m'error'\u001b[0m\u001b[0;34m,\u001b[0m \u001b[0;34m'method'\u001b[0m\u001b[0;34m,\u001b[0m \u001b[0;34m'model'\u001b[0m\u001b[0;34m]\u001b[0m\u001b[0;34m)\u001b[0m\u001b[0;34m\u001b[0m\u001b[0;34m\u001b[0m\u001b[0m\n\u001b[0m\u001b[1;32m      2\u001b[0m \u001b[0mdf\u001b[0m\u001b[0;34m.\u001b[0m\u001b[0merror\u001b[0m \u001b[0;34m=\u001b[0m \u001b[0mdf\u001b[0m\u001b[0;34m.\u001b[0m\u001b[0merror\u001b[0m\u001b[0;34m.\u001b[0m\u001b[0mastype\u001b[0m\u001b[0;34m(\u001b[0m\u001b[0mfloat\u001b[0m\u001b[0;34m)\u001b[0m\u001b[0;34m\u001b[0m\u001b[0;34m\u001b[0m\u001b[0m\n\u001b[1;32m      3\u001b[0m \u001b[0;34m\u001b[0m\u001b[0m\n\u001b[1;32m      4\u001b[0m \u001b[0;34m\u001b[0m\u001b[0m\n\u001b[1;32m      5\u001b[0m \u001b[0msns\u001b[0m\u001b[0;34m.\u001b[0m\u001b[0mcatplot\u001b[0m\u001b[0;34m(\u001b[0m\u001b[0mx\u001b[0m\u001b[0;34m=\u001b[0m\u001b[0;34m'model'\u001b[0m\u001b[0;34m,\u001b[0m \u001b[0my\u001b[0m\u001b[0;34m=\u001b[0m\u001b[0;34m\"error\"\u001b[0m\u001b[0;34m,\u001b[0m \u001b[0mhue\u001b[0m\u001b[0;34m=\u001b[0m\u001b[0;34m\"method\"\u001b[0m\u001b[0;34m,\u001b[0m \u001b[0mkind\u001b[0m\u001b[0;34m=\u001b[0m\u001b[0;34m\"bar\"\u001b[0m\u001b[0;34m,\u001b[0m \u001b[0mdata\u001b[0m\u001b[0;34m=\u001b[0m\u001b[0mdf\u001b[0m\u001b[0;34m)\u001b[0m\u001b[0;34m\u001b[0m\u001b[0;34m\u001b[0m\u001b[0m\n",
      "\u001b[0;31mNameError\u001b[0m: name 'data' is not defined"
     ]
    }
   ],
   "source": [
    "df = pd.DataFrame(np.array(data),columns=['error', 'method', 'model'])\n",
    "df.error = df.error.astype(float)\n",
    "\n",
    "\n",
    "sns.catplot(x='model', y=\"error\", hue=\"method\", kind=\"bar\", data=df)"
   ]
  },
  {
   "cell_type": "code",
   "execution_count": 72,
   "id": "e8cf36f8-2ec1-44fc-b213-40945205fdf0",
   "metadata": {},
   "outputs": [
    {
     "data": {
      "image/png": "[encoded data removed]",
      "text/plain": [
       "<Figure size 720x288 with 3 Axes>"
      ]
     },
     "metadata": {
      "needs_background": "light"
     },
     "output_type": "display_data"
    }
   ],
   "source": [
    "import matplotlib.pyplot as plt\n",
    "\n",
    "fig, axes = plt.subplots(nrows=1, ncols=3, figsize=(10,4))\n",
    "\n",
    "g = sns.barplot(x='model',\n",
    "                 y='error',\n",
    "                 data=df[df['method'] == 'rmse'],\n",
    "                 ax=axes[0])\n",
    "# g.axes.set_ylim(0,25)\n",
    "g.set(xlabel='Modelos', ylabel='RMSE')\n",
    "\n",
    "g = sns.barplot(x='model',\n",
    "                 y='error',\n",
    "                 data=df[df['method'] == 'median'],\n",
    "                 ax=axes[1])\n",
    "g.set(xlabel='Modelos', ylabel='Média do Erro Relativo')\n",
    "\n",
    "g = sns.barplot(x='model',\n",
    "                 y='error',\n",
    "                 data=df[df['method'] == 'mean'],\n",
    "                 ax=axes[2])\n",
    "g.set(xlabel='Modelos', ylabel='Mediana do Erro Relativo')\n",
    "\n",
    "# g = sns.FacetGrid(df, col=\"method\", height=4, aspect=.8)\n",
    "# g.map(sns.barplot, \"model\", \"error\", order=[\"model_1\", \"model_2\", \"model_3\"])\n",
    "\n",
    "plt.tight_layout()\n",
    "plt.show()"
   ]
  },
  {
   "cell_type": "code",
   "execution_count": null,
   "id": "7dda81b3-0674-4bff-a057-c200eabc772d",
   "metadata": {},
   "outputs": [],
   "source": []
  }
 ],
 "metadata": {
  "kernelspec": {
   "display_name": "Python 3 (ipykernel)",
   "language": "python",
   "name": "python3"
  },
  "language_info": {
   "codemirror_mode": {
    "name": "ipython",
    "version": 3
   },
   "file_extension": ".py",
   "mimetype": "text/x-python",
   "name": "python",
   "nbconvert_exporter": "python",
   "pygments_lexer": "ipython3",
   "version": "3.8.3"
  }
 },
 "nbformat": 4,
 "nbformat_minor": 5
}
