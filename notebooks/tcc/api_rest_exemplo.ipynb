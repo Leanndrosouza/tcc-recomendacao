{
 "cells": [
  {
   "cell_type": "code",
   "execution_count": 1,
   "id": "bfe31a8a-def2-454a-b991-a9db9d2a3762",
   "metadata": {},
   "outputs": [],
   "source": [
    "import requests as req"
   ]
  },
  {
   "cell_type": "markdown",
   "id": "ffa1e993-2fca-47d4-8e88-d12ec6e41b44",
   "metadata": {},
   "source": [
    "## Obtendo recomendação por rota HTTP"
   ]
  },
  {
   "cell_type": "code",
   "execution_count": 3,
   "id": "3b928d06-32ac-4a23-a114-ab850fe9a1a4",
   "metadata": {},
   "outputs": [
    {
     "data": {
      "text/plain": [
       "{'0': {'area': 90.0,\n",
       "  'bairro': 'Jardins',\n",
       "  'banheiros': 2.0,\n",
       "  'distancia': 0.20300819700256229,\n",
       "  'garagens': 1.0,\n",
       "  'id': '60820e6bb1b300acd842ac98',\n",
       "  'preco_estimado': 473039.0,\n",
       "  'quartos': 3.0,\n",
       "  'similaridade': 1.3718301985199066,\n",
       "  'titulo': 'Apartamento no Jardins Trianon 2/4 e 3/4',\n",
       "  'valor': 530000.0},\n",
       " '1': {'area': 72.0,\n",
       "  'bairro': 'Jardins',\n",
       "  'banheiros': 2.0,\n",
       "  'distancia': 0.20300819700256229,\n",
       "  'garagens': 1.0,\n",
       "  'id': '607c58dbea5b573b233aa59e',\n",
       "  'preco_estimado': 460459.0,\n",
       "  'quartos': 2.0,\n",
       "  'similaridade': 1.5630906400347675,\n",
       "  'titulo': 'Apt Trianon Jardins ( 2/4 sendo 1 suíte ) 8º andar',\n",
       "  'valor': 475000.0},\n",
       " '2': {'area': 110.0,\n",
       "  'bairro': 'Luzia',\n",
       "  'banheiros': 3.0,\n",
       "  'distancia': 1.9364186121483964,\n",
       "  'garagens': 1.0,\n",
       "  'id': '608280046f1b1c9a355597ca',\n",
       "  'preco_estimado': 279787.0,\n",
       "  'quartos': 3.0,\n",
       "  'similaridade': 1.8154167817733187,\n",
       "  'titulo': 'Apartamento no Luzia - Aracaju/ Se',\n",
       "  'valor': 270000.0},\n",
       " '3': {'area': 110.0,\n",
       "  'bairro': 'Jardins',\n",
       "  'banheiros': 3.0,\n",
       "  'distancia': 0.5045540518034997,\n",
       "  'garagens': 1.0,\n",
       "  'id': '60786356f894cce6c16b032b',\n",
       "  'preco_estimado': 387875.0,\n",
       "  'quartos': 3.0,\n",
       "  'similaridade': 10.228617013874349,\n",
       "  'titulo': 'Apartamento no Jardins, 3/4 com suíte',\n",
       "  'valor': 410000.0},\n",
       " '4': {'area': 110.0,\n",
       "  'bairro': 'Jardins',\n",
       "  'banheiros': 2.0,\n",
       "  'distancia': 0.5045540518034997,\n",
       "  'garagens': 1.0,\n",
       "  'id': '60778350ae37d90e78636839',\n",
       "  'preco_estimado': 256681.0,\n",
       "  'quartos': 3.0,\n",
       "  'similaridade': 10.228617013874349,\n",
       "  'titulo': 'Apartamento no Jardins - Phoenix - 3/4',\n",
       "  'valor': 480000.0},\n",
       " '5': {'area': 80.0,\n",
       "  'bairro': 'Jardins',\n",
       "  'banheiros': 2.0,\n",
       "  'distancia': 0.5045540518034997,\n",
       "  'garagens': 1.0,\n",
       "  'id': '608b82010fb450fdc6a77b71',\n",
       "  'preco_estimado': 389836.0,\n",
       "  'quartos': 3.0,\n",
       "  'similaridade': 10.245382126472599,\n",
       "  'titulo': 'Delphinos próximo shopping Jardins ',\n",
       "  'valor': 295000.0}}"
      ]
     },
     "execution_count": 3,
     "metadata": {},
     "output_type": "execute_result"
    }
   ],
   "source": [
    "params = {\n",
    "#     \"valor\": 300000,         # Valor em Reais (R$)\n",
    "    \"quartos\": 3,            # Número de quartos\n",
    "    \"area\": 90,              # Área do imóvel em metros quadrados\n",
    "    \"banheiros\": 2,          # Número de banheiros do imóvel\n",
    "    \"garagens\": 1,           # Número de garagens do imóvel\n",
    "    \"bairro\": \"Jardins\"      # Bairro onde se localiza o imóvel\n",
    "}\n",
    "response = req.get(\"http://api:5000/api/v1/recomendacao\", params=params)\n",
    "response.json()"
   ]
  },
  {
   "cell_type": "code",
   "execution_count": null,
   "id": "c4647845-3319-4305-9613-7fce0bfb3d40",
   "metadata": {},
   "outputs": [],
   "source": []
  }
 ],
 "metadata": {
  "kernelspec": {
   "display_name": "Python 3 (ipykernel)",
   "language": "python",
   "name": "python3"
  },
  "language_info": {
   "codemirror_mode": {
    "name": "ipython",
    "version": 3
   },
   "file_extension": ".py",
   "mimetype": "text/x-python",
   "name": "python",
   "nbconvert_exporter": "python",
   "pygments_lexer": "ipython3",
   "version": "3.8.3"
  }
 },
 "nbformat": 4,
 "nbformat_minor": 5
}
