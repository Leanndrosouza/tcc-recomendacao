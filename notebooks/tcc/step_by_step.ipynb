{
 "cells": [
  {
   "cell_type": "code",
   "execution_count": 1,
   "id": "86ea5e26-bf2d-4578-8573-f68c72ca4174",
   "metadata": {},
   "outputs": [],
   "source": [
    "import pandas as pd\n",
    "import re\n",
    "from utils import valid_params, load_properties,convert_to_output"
   ]
  },
  {
   "cell_type": "markdown",
   "id": "ba953b21-f28e-40cd-a376-490afcfe6432",
   "metadata": {},
   "source": [
    "## Leitura e tratamento dos dados"
   ]
  },
  {
   "cell_type": "code",
   "execution_count": 2,
   "id": "8ce294dc-29f5-4642-aed2-3b90fba96dfe",
   "metadata": {},
   "outputs": [
    {
     "data": {
      "text/plain": [
       "5079"
      ]
     },
     "execution_count": 2,
     "metadata": {},
     "output_type": "execute_result"
    }
   ],
   "source": [
    "df_imoveis = load_properties()\n",
    "len(df_imoveis)"
   ]
  },
  {
   "cell_type": "markdown",
   "id": "246a0dfd-9a91-4168-99f2-f13601c09c33",
   "metadata": {},
   "source": [
    "## Base utilizada"
   ]
  },
  {
   "cell_type": "code",
   "execution_count": 3,
   "id": "ef170ead-6e8a-4469-b5e7-3b4e34b65397",
   "metadata": {},
   "outputs": [
    {
     "data": {
      "text/html": [
       "<div>\n",
       "<style scoped>\n",
       "    .dataframe tbody tr th:only-of-type {\n",
       "        vertical-align: middle;\n",
       "    }\n",
       "\n",
       "    .dataframe tbody tr th {\n",
       "        vertical-align: top;\n",
       "    }\n",
       "\n",
       "    .dataframe thead th {\n",
       "        text-align: right;\n",
       "    }\n",
       "</style>\n",
       "<table border=\"1\" class=\"dataframe\">\n",
       "  <thead>\n",
       "    <tr style=\"text-align: right;\">\n",
       "      <th></th>\n",
       "      <th>id</th>\n",
       "      <th>titulo</th>\n",
       "      <th>value</th>\n",
       "      <th>location</th>\n",
       "      <th>price_suggested</th>\n",
       "      <th>nearby_locations</th>\n",
       "      <th>categoria</th>\n",
       "      <th>area</th>\n",
       "      <th>rooms</th>\n",
       "      <th>bathrooms</th>\n",
       "      <th>garages</th>\n",
       "      <th>district_name</th>\n",
       "    </tr>\n",
       "  </thead>\n",
       "  <tbody>\n",
       "    <tr>\n",
       "      <th>0</th>\n",
       "      <td>607458fa77dee513e95c7f1c</td>\n",
       "      <td>Parque Alameda Real - Apartamento 2 quartos em...</td>\n",
       "      <td>138900.0</td>\n",
       "      <td>{'lat': -10.9472468, 'lng': -37.0730823}</td>\n",
       "      <td>147871.0</td>\n",
       "      <td>18</td>\n",
       "      <td>Apartamentos</td>\n",
       "      <td>40.0</td>\n",
       "      <td>3.0</td>\n",
       "      <td>2.0</td>\n",
       "      <td>1.0</td>\n",
       "      <td>Santa Maria</td>\n",
       "    </tr>\n",
       "    <tr>\n",
       "      <th>1</th>\n",
       "      <td>607458ff77dee513e95c7f1d</td>\n",
       "      <td>::Ecoville park</td>\n",
       "      <td>330000.0</td>\n",
       "      <td>{'lat': -10.9396559, 'lng': -37.0593199}</td>\n",
       "      <td>367439.0</td>\n",
       "      <td>23</td>\n",
       "      <td>Apartamentos</td>\n",
       "      <td>62.0</td>\n",
       "      <td>3.0</td>\n",
       "      <td>2.0</td>\n",
       "      <td>1.0</td>\n",
       "      <td>Jardins</td>\n",
       "    </tr>\n",
       "    <tr>\n",
       "      <th>2</th>\n",
       "      <td>6074590377dee513e95c7f1e</td>\n",
       "      <td>::Ecoville park</td>\n",
       "      <td>330000.0</td>\n",
       "      <td>{'lat': -10.9396559, 'lng': -37.0593199}</td>\n",
       "      <td>367439.0</td>\n",
       "      <td>23</td>\n",
       "      <td>Apartamentos</td>\n",
       "      <td>62.0</td>\n",
       "      <td>3.0</td>\n",
       "      <td>2.0</td>\n",
       "      <td>1.0</td>\n",
       "      <td>Jardins</td>\n",
       "    </tr>\n",
       "  </tbody>\n",
       "</table>\n",
       "</div>"
      ],
      "text/plain": [
       "                         id  \\\n",
       "0  607458fa77dee513e95c7f1c   \n",
       "1  607458ff77dee513e95c7f1d   \n",
       "2  6074590377dee513e95c7f1e   \n",
       "\n",
       "                                              titulo     value  \\\n",
       "0  Parque Alameda Real - Apartamento 2 quartos em...  138900.0   \n",
       "1                                    ::Ecoville park  330000.0   \n",
       "2                                    ::Ecoville park  330000.0   \n",
       "\n",
       "                                   location  price_suggested  \\\n",
       "0  {'lat': -10.9472468, 'lng': -37.0730823}         147871.0   \n",
       "1  {'lat': -10.9396559, 'lng': -37.0593199}         367439.0   \n",
       "2  {'lat': -10.9396559, 'lng': -37.0593199}         367439.0   \n",
       "\n",
       "   nearby_locations     categoria  area  rooms  bathrooms  garages  \\\n",
       "0                18  Apartamentos  40.0    3.0        2.0      1.0   \n",
       "1                23  Apartamentos  62.0    3.0        2.0      1.0   \n",
       "2                23  Apartamentos  62.0    3.0        2.0      1.0   \n",
       "\n",
       "  district_name  \n",
       "0   Santa Maria  \n",
       "1       Jardins  \n",
       "2       Jardins  "
      ]
     },
     "execution_count": 3,
     "metadata": {},
     "output_type": "execute_result"
    }
   ],
   "source": [
    "df_imoveis.head(3)"
   ]
  },
  {
   "cell_type": "markdown",
   "id": "5bfaee4a-73bd-47e1-82cf-2a0bf94cec89",
   "metadata": {},
   "source": [
    "## Bairros válidos"
   ]
  },
  {
   "cell_type": "code",
   "execution_count": 4,
   "id": "56d35c5c-d650-426b-8788-4e2fb24db73f",
   "metadata": {},
   "outputs": [],
   "source": [
    "AVAILABLE_DISTRICTS = ['Jabotiana', 'Atalaia', 'Salgado Filho', 'Lamarão', 'Grageru',\n",
    "                       'Luzia', 'Jardins', 'Farolândia', 'Coroa do Meio', 'Ponto Novo',\n",
    "                       'Suíssa', 'Centro', 'São Conrado', 'Inácio Barbosa', 'São José',\n",
    "                       'Zona de Expansão (Mosqueiro)', 'Treze de Julho',\n",
    "                       'Dezoito do Forte', 'Aeroporto', 'Zona de Expansão (Aruana)',\n",
    "                       'Siqueira Campos', 'Pereira Lobo', 'Jardim Centenário',\n",
    "                       'Santa Maria', 'Dom Luciano', 'Olaria', 'Santos Dumont', 'América',\n",
    "                       'Santo Antônio', 'Getúlio Vargas', 'Cirurgia', 'Industrial',\n",
    "                       \"Porto D'Antas\", '18 do Forte', 'José Conrado de Araújo',\n",
    "                       'Cidade Nova', 'Zona de Expansão (Robalo)', '13 De Julho',\n",
    "                       'Palestina', 'Soledade', 'Japãozinho']"
   ]
  },
  {
   "cell_type": "markdown",
   "id": "1c4d1145-8af8-41ba-9bea-15594c5190c5",
   "metadata": {},
   "source": [
    "## Preferências do Usuário "
   ]
  },
  {
   "cell_type": "code",
   "execution_count": 9,
   "id": "bb7e0af2-f927-49db-9489-55a0b8ba2be6",
   "metadata": {},
   "outputs": [],
   "source": [
    "params = {\n",
    "    \"valor\": 300000,        # Valor em Reais (R$)\n",
    "    \"quartos\": 3,             # Número de quartos\n",
    "    \"area\": 80,             # Área do imóvel em metros quadrados\n",
    "    \"banheiros\": 2,         # Número de banheiros do imóvel\n",
    "    \"garagens\": 1,           # Número de garagens do imóvel\n",
    "    \"bairro\": \"Atalaia\",  # Bairro onde se localiza o imóvel\n",
    "    \"latitude\": -10.995901, # latitude desejada\n",
    "    \"longitude\": -37.055213 # longitude desejada\n",
    "}"
   ]
  },
  {
   "cell_type": "markdown",
   "id": "dd428b4b-450b-420e-84d5-2d36d5a9f14b",
   "metadata": {},
   "source": [
    "## Validar parametros "
   ]
  },
  {
   "cell_type": "code",
   "execution_count": 10,
   "id": "370dd363-90b4-42af-a592-8cdb9faba868",
   "metadata": {},
   "outputs": [
    {
     "name": "stdout",
     "output_type": "stream",
     "text": [
      "value is a required field\n"
     ]
    }
   ],
   "source": [
    "from utils import valid_params\n",
    "\n",
    "error = valid_params(params)\n",
    "if error != None:\n",
    "    print(error)"
   ]
  },
  {
   "cell_type": "markdown",
   "id": "dec01eb6-68e2-4874-9c90-e62835aca459",
   "metadata": {},
   "source": [
    "## Preparar os parametros"
   ]
  },
  {
   "cell_type": "code",
   "execution_count": 11,
   "id": "96d85375-4d80-4587-8b8c-a83efd29bb88",
   "metadata": {},
   "outputs": [],
   "source": [
    "from utils import prepare_params\n",
    "\n",
    "prepared_params, error = prepare_params(params)"
   ]
  },
  {
   "cell_type": "code",
   "execution_count": 12,
   "id": "590ca502-4d5d-44a0-8ca7-7f945951874e",
   "metadata": {},
   "outputs": [
    {
     "data": {
      "text/plain": [
       "{'value': 300000.0,\n",
       " 'garages': 1.0,\n",
       " 'area': 80.0,\n",
       " 'bathrooms': 2.0,\n",
       " 'district': 'Atalaia',\n",
       " 'location': {'lat': -10.995901, 'lng': -37.055213}}"
      ]
     },
     "execution_count": 12,
     "metadata": {},
     "output_type": "execute_result"
    }
   ],
   "source": [
    "prepared_params"
   ]
  },
  {
   "cell_type": "markdown",
   "id": "df595fca-65e7-48e4-a657-9cbaaeca16ea",
   "metadata": {},
   "source": [
    "## Alterar a base de acordo com os parametros"
   ]
  },
  {
   "cell_type": "code",
   "execution_count": 9,
   "id": "9a4c5bb0-1b54-421b-a973-ae0b87546d69",
   "metadata": {},
   "outputs": [
    {
     "data": {
      "text/html": [
       "<div>\n",
       "<style scoped>\n",
       "    .dataframe tbody tr th:only-of-type {\n",
       "        vertical-align: middle;\n",
       "    }\n",
       "\n",
       "    .dataframe tbody tr th {\n",
       "        vertical-align: top;\n",
       "    }\n",
       "\n",
       "    .dataframe thead th {\n",
       "        text-align: right;\n",
       "    }\n",
       "</style>\n",
       "<table border=\"1\" class=\"dataframe\">\n",
       "  <thead>\n",
       "    <tr style=\"text-align: right;\">\n",
       "      <th></th>\n",
       "      <th>id</th>\n",
       "      <th>titulo</th>\n",
       "      <th>value</th>\n",
       "      <th>location</th>\n",
       "      <th>price_suggested</th>\n",
       "      <th>nearby_locations</th>\n",
       "      <th>categoria</th>\n",
       "      <th>area</th>\n",
       "      <th>rooms</th>\n",
       "      <th>bathrooms</th>\n",
       "      <th>garages</th>\n",
       "      <th>district_name</th>\n",
       "      <th>distance</th>\n",
       "      <th>district</th>\n",
       "    </tr>\n",
       "  </thead>\n",
       "  <tbody>\n",
       "    <tr>\n",
       "      <th>0</th>\n",
       "      <td>607458fa77dee513e95c7f1c</td>\n",
       "      <td>Parque Alameda Real - Apartamento 2 quartos em...</td>\n",
       "      <td>138900.0</td>\n",
       "      <td>{'lat': -10.9472468, 'lng': -37.0730823}</td>\n",
       "      <td>147871.0</td>\n",
       "      <td>18</td>\n",
       "      <td>Apartamentos</td>\n",
       "      <td>40.0</td>\n",
       "      <td>3.0</td>\n",
       "      <td>2.0</td>\n",
       "      <td>1.0</td>\n",
       "      <td>Santa Maria</td>\n",
       "      <td>4.999925</td>\n",
       "      <td>0.0</td>\n",
       "    </tr>\n",
       "    <tr>\n",
       "      <th>1</th>\n",
       "      <td>607458ff77dee513e95c7f1d</td>\n",
       "      <td>::Ecoville park</td>\n",
       "      <td>330000.0</td>\n",
       "      <td>{'lat': -10.9396559, 'lng': -37.0593199}</td>\n",
       "      <td>367439.0</td>\n",
       "      <td>23</td>\n",
       "      <td>Apartamentos</td>\n",
       "      <td>62.0</td>\n",
       "      <td>3.0</td>\n",
       "      <td>2.0</td>\n",
       "      <td>1.0</td>\n",
       "      <td>Jardins</td>\n",
       "      <td>5.394045</td>\n",
       "      <td>0.0</td>\n",
       "    </tr>\n",
       "    <tr>\n",
       "      <th>2</th>\n",
       "      <td>6074590377dee513e95c7f1e</td>\n",
       "      <td>::Ecoville park</td>\n",
       "      <td>330000.0</td>\n",
       "      <td>{'lat': -10.9396559, 'lng': -37.0593199}</td>\n",
       "      <td>367439.0</td>\n",
       "      <td>23</td>\n",
       "      <td>Apartamentos</td>\n",
       "      <td>62.0</td>\n",
       "      <td>3.0</td>\n",
       "      <td>2.0</td>\n",
       "      <td>1.0</td>\n",
       "      <td>Jardins</td>\n",
       "      <td>5.394045</td>\n",
       "      <td>0.0</td>\n",
       "    </tr>\n",
       "  </tbody>\n",
       "</table>\n",
       "</div>"
      ],
      "text/plain": [
       "                         id  \\\n",
       "0  607458fa77dee513e95c7f1c   \n",
       "1  607458ff77dee513e95c7f1d   \n",
       "2  6074590377dee513e95c7f1e   \n",
       "\n",
       "                                              titulo     value  \\\n",
       "0  Parque Alameda Real - Apartamento 2 quartos em...  138900.0   \n",
       "1                                    ::Ecoville park  330000.0   \n",
       "2                                    ::Ecoville park  330000.0   \n",
       "\n",
       "                                   location  price_suggested  \\\n",
       "0  {'lat': -10.9472468, 'lng': -37.0730823}         147871.0   \n",
       "1  {'lat': -10.9396559, 'lng': -37.0593199}         367439.0   \n",
       "2  {'lat': -10.9396559, 'lng': -37.0593199}         367439.0   \n",
       "\n",
       "   nearby_locations     categoria  area  rooms  bathrooms  garages  \\\n",
       "0                18  Apartamentos  40.0    3.0        2.0      1.0   \n",
       "1                23  Apartamentos  62.0    3.0        2.0      1.0   \n",
       "2                23  Apartamentos  62.0    3.0        2.0      1.0   \n",
       "\n",
       "  district_name  distance  district  \n",
       "0   Santa Maria  4.999925       0.0  \n",
       "1       Jardins  5.394045       0.0  \n",
       "2       Jardins  5.394045       0.0  "
      ]
     },
     "execution_count": 9,
     "metadata": {},
     "output_type": "execute_result"
    }
   ],
   "source": [
    "from utils import handle_dataframe_values\n",
    "\n",
    "df_to_algorithm, params_to_algorithm = handle_dataframe_values(df_imoveis, prepared_params)\n",
    "df_to_algorithm.head(3)"
   ]
  },
  {
   "cell_type": "markdown",
   "id": "b79c92ad-8e01-4f2b-b745-dd2cb9cc12db",
   "metadata": {},
   "source": [
    "## Definição dos pesos de cada caracteristica"
   ]
  },
  {
   "cell_type": "code",
   "execution_count": 10,
   "id": "d366af4a-d5c3-47e3-8080-9215be977f20",
   "metadata": {},
   "outputs": [],
   "source": [
    "weights = {\n",
    "    'value': [30.0],\n",
    "    'rooms': [10.0],\n",
    "    'area': [10.0],\n",
    "    'bathrooms': [10.0],\n",
    "    'garages': [10.0],\n",
    "    'district': [10.0],\n",
    "    'distance': [10.0]\n",
    "}"
   ]
  },
  {
   "cell_type": "markdown",
   "id": "8b784ec1-6d28-412c-a43c-ecd1e83562b9",
   "metadata": {},
   "source": [
    "## Aplicando Algoritmo de Recomendação"
   ]
  },
  {
   "cell_type": "code",
   "execution_count": 11,
   "id": "a15b2a01-f6f6-49a0-8e22-62ab60dbf4a7",
   "metadata": {},
   "outputs": [
    {
     "data": {
      "text/html": [
       "<div>\n",
       "<style scoped>\n",
       "    .dataframe tbody tr th:only-of-type {\n",
       "        vertical-align: middle;\n",
       "    }\n",
       "\n",
       "    .dataframe tbody tr th {\n",
       "        vertical-align: top;\n",
       "    }\n",
       "\n",
       "    .dataframe thead th {\n",
       "        text-align: right;\n",
       "    }\n",
       "</style>\n",
       "<table border=\"1\" class=\"dataframe\">\n",
       "  <thead>\n",
       "    <tr style=\"text-align: right;\">\n",
       "      <th></th>\n",
       "      <th>id</th>\n",
       "      <th>titulo</th>\n",
       "      <th>area</th>\n",
       "      <th>banheiros</th>\n",
       "      <th>bairro</th>\n",
       "      <th>preco_estimado</th>\n",
       "      <th>similaridade</th>\n",
       "      <th>valor</th>\n",
       "      <th>quartos</th>\n",
       "      <th>garagens</th>\n",
       "      <th>locais_proximos</th>\n",
       "      <th>distancia</th>\n",
       "    </tr>\n",
       "  </thead>\n",
       "  <tbody>\n",
       "    <tr>\n",
       "      <th>0</th>\n",
       "      <td>607f33ac4c5fd7aeae9a73c5</td>\n",
       "      <td>EDF Pontal do Atlântico de; 3/4</td>\n",
       "      <td>80.0</td>\n",
       "      <td>2.0</td>\n",
       "      <td>Atalaia</td>\n",
       "      <td>327663.0</td>\n",
       "      <td>2.833835</td>\n",
       "      <td>300000.0</td>\n",
       "      <td>3.0</td>\n",
       "      <td>1.0</td>\n",
       "      <td>15</td>\n",
       "      <td>0.482151</td>\n",
       "    </tr>\n",
       "    <tr>\n",
       "      <th>1</th>\n",
       "      <td>6085cb97016b09b70c75bc23</td>\n",
       "      <td>Apartamento com 3 dormitórios à venda, 124 m² ...</td>\n",
       "      <td>124.0</td>\n",
       "      <td>2.0</td>\n",
       "      <td>Salgado Filho</td>\n",
       "      <td>312255.0</td>\n",
       "      <td>3.066160</td>\n",
       "      <td>450000.0</td>\n",
       "      <td>3.0</td>\n",
       "      <td>1.0</td>\n",
       "      <td>19</td>\n",
       "      <td>6.471091</td>\n",
       "    </tr>\n",
       "    <tr>\n",
       "      <th>2</th>\n",
       "      <td>607e8a51092e9f82c3b1eba2</td>\n",
       "      <td>285.000</td>\n",
       "      <td>77.0</td>\n",
       "      <td>2.0</td>\n",
       "      <td>Atalaia</td>\n",
       "      <td>321778.0</td>\n",
       "      <td>3.590341</td>\n",
       "      <td>285000.0</td>\n",
       "      <td>3.0</td>\n",
       "      <td>1.0</td>\n",
       "      <td>14</td>\n",
       "      <td>0.470860</td>\n",
       "    </tr>\n",
       "  </tbody>\n",
       "</table>\n",
       "</div>"
      ],
      "text/plain": [
       "                         id  \\\n",
       "0  607f33ac4c5fd7aeae9a73c5   \n",
       "1  6085cb97016b09b70c75bc23   \n",
       "2  607e8a51092e9f82c3b1eba2   \n",
       "\n",
       "                                              titulo   area  banheiros  \\\n",
       "0                    EDF Pontal do Atlântico de; 3/4   80.0        2.0   \n",
       "1  Apartamento com 3 dormitórios à venda, 124 m² ...  124.0        2.0   \n",
       "2                                            285.000   77.0        2.0   \n",
       "\n",
       "          bairro  preco_estimado  similaridade     valor  quartos  garagens  \\\n",
       "0        Atalaia        327663.0      2.833835  300000.0      3.0       1.0   \n",
       "1  Salgado Filho        312255.0      3.066160  450000.0      3.0       1.0   \n",
       "2        Atalaia        321778.0      3.590341  285000.0      3.0       1.0   \n",
       "\n",
       "   locais_proximos  distancia  \n",
       "0               15   0.482151  \n",
       "1               19   6.471091  \n",
       "2               14   0.470860  "
      ]
     },
     "execution_count": 11,
     "metadata": {},
     "output_type": "execute_result"
    }
   ],
   "source": [
    "from utils import mahalanobis_algorithm\n",
    "\n",
    "sorted_values = mahalanobis_algorithm(df_to_algorithm, params_to_algorithm, weights)\n",
    "\n",
    "result = {}\n",
    "for index in range(3):\n",
    "    aux = df_to_algorithm.iloc[sorted_values.iloc[index].name].to_dict()\n",
    "    aux['similarity'] = sorted_values.iloc[index][0]\n",
    "    aux['similarity_index'] = int(sorted_values.iloc[index].name)\n",
    "\n",
    "    result.update({index: convert_to_output(aux)})\n",
    "    df_to_algorithm = df_to_algorithm[df_to_algorithm.id != aux['id']]\n",
    "    \n",
    "pd.DataFrame.from_dict(result, orient=\"index\")"
   ]
  },
  {
   "cell_type": "code",
   "execution_count": null,
   "id": "6f18a860-7af0-487a-b516-2a8d72fda6ae",
   "metadata": {},
   "outputs": [],
   "source": []
  }
 ],
 "metadata": {
  "kernelspec": {
   "display_name": "Python 3 (ipykernel)",
   "language": "python",
   "name": "python3"
  },
  "language_info": {
   "codemirror_mode": {
    "name": "ipython",
    "version": 3
   },
   "file_extension": ".py",
   "mimetype": "text/x-python",
   "name": "python",
   "nbconvert_exporter": "python",
   "pygments_lexer": "ipython3",
   "version": "3.8.3"
  }
 },
 "nbformat": 4,
 "nbformat_minor": 5
}
