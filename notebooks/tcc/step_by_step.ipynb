{
 "cells": [
  {
   "cell_type": "code",
   "execution_count": 2,
   "id": "86ea5e26-bf2d-4578-8573-f68c72ca4174",
   "metadata": {},
   "outputs": [],
   "source": [
    "import pandas as pd\n",
    "import re\n",
    "from utils import valid_params, load_properties"
   ]
  },
  {
   "cell_type": "markdown",
   "id": "ba953b21-f28e-40cd-a376-490afcfe6432",
   "metadata": {},
   "source": [
    "## Leitura e tratamento dos dados"
   ]
  },
  {
   "cell_type": "code",
   "execution_count": 8,
   "id": "93f8f67c-7f7a-447d-9326-d6f98d1064b4",
   "metadata": {},
   "outputs": [
    {
     "data": {
      "text/plain": [
       "categoria                    0\n",
       "tipo                         0\n",
       "area_util                 1621\n",
       "quartos                     38\n",
       "banheiros                  512\n",
       "vagas_na_garagem           166\n",
       "cep                          0\n",
       "municipio                    0\n",
       "bairro                       0\n",
       "logradouro                 198\n",
       "detalhes_do_imovel        1767\n",
       "detalhes_do_condominio    2629\n",
       "condominio                3145\n",
       "iptu                      4430\n",
       "dtype: int64"
      ]
     },
     "execution_count": 8,
     "metadata": {},
     "output_type": "execute_result"
    }
   ],
   "source": [
    "df = pd.read_json(\"assets/olx_location_cep_price.json\", orient=\"records\", convert_dates=False)\n",
    "df = df['caracteristicas'].apply(pd.Series)\n",
    "df.isna().sum()"
   ]
  },
  {
   "cell_type": "code",
   "execution_count": 14,
   "id": "4f23bed6-74ff-474c-8149-a70bd7c33a8b",
   "metadata": {},
   "outputs": [
    {
     "data": {
      "text/plain": [
       "(categoria                    0\n",
       " tipo                         0\n",
       " area_util                 1621\n",
       " quartos                     38\n",
       " banheiros                  512\n",
       " vagas_na_garagem           166\n",
       " cep                          0\n",
       " municipio                    0\n",
       " bairro                       0\n",
       " logradouro                 198\n",
       " detalhes_do_imovel        1767\n",
       " detalhes_do_condominio    2629\n",
       " condominio                3145\n",
       " iptu                      4430\n",
       " dtype: int64,\n",
       " 0.3807836188226029,\n",
       " 0.1277810592636346)"
      ]
     },
     "execution_count": 14,
     "metadata": {},
     "output_type": "execute_result"
    }
   ],
   "source": [
    "df.isna().sum(), 1- 3145/5079, 1- 4430/5079"
   ]
  },
  {
   "cell_type": "code",
   "execution_count": 12,
   "id": "1c5e80e1-9a5d-4916-935c-8d2a10c43e70",
   "metadata": {},
   "outputs": [
    {
     "data": {
      "text/plain": [
       "5079"
      ]
     },
     "execution_count": 12,
     "metadata": {},
     "output_type": "execute_result"
    }
   ],
   "source": [
    "len(df)"
   ]
  },
  {
   "cell_type": "code",
   "execution_count": 4,
   "id": "8ce294dc-29f5-4642-aed2-3b90fba96dfe",
   "metadata": {},
   "outputs": [
    {
     "data": {
      "text/plain": [
       "id                 0\n",
       "value              0\n",
       "location           0\n",
       "price_suggested    0\n",
       "area               0\n",
       "rooms              0\n",
       "bathrooms          0\n",
       "garages            0\n",
       "district_name      0\n",
       "dtype: int64"
      ]
     },
     "execution_count": 4,
     "metadata": {},
     "output_type": "execute_result"
    }
   ],
   "source": [
    "df_imoveis = load_properties()\n",
    "df_imoveis.isna().sum()"
   ]
  },
  {
   "cell_type": "markdown",
   "id": "246a0dfd-9a91-4168-99f2-f13601c09c33",
   "metadata": {},
   "source": [
    "## Base utilizada"
   ]
  },
  {
   "cell_type": "code",
   "execution_count": 3,
   "id": "ef170ead-6e8a-4469-b5e7-3b4e34b65397",
   "metadata": {},
   "outputs": [
    {
     "data": {
      "text/html": [
       "<div>\n",
       "<style scoped>\n",
       "    .dataframe tbody tr th:only-of-type {\n",
       "        vertical-align: middle;\n",
       "    }\n",
       "\n",
       "    .dataframe tbody tr th {\n",
       "        vertical-align: top;\n",
       "    }\n",
       "\n",
       "    .dataframe thead th {\n",
       "        text-align: right;\n",
       "    }\n",
       "</style>\n",
       "<table border=\"1\" class=\"dataframe\">\n",
       "  <thead>\n",
       "    <tr style=\"text-align: right;\">\n",
       "      <th></th>\n",
       "      <th>id</th>\n",
       "      <th>value</th>\n",
       "      <th>location</th>\n",
       "      <th>price_suggested</th>\n",
       "      <th>categoria</th>\n",
       "      <th>area</th>\n",
       "      <th>rooms</th>\n",
       "      <th>bathrooms</th>\n",
       "      <th>garages</th>\n",
       "      <th>district_name</th>\n",
       "    </tr>\n",
       "  </thead>\n",
       "  <tbody>\n",
       "    <tr>\n",
       "      <th>3</th>\n",
       "      <td>6074590677dee513e95c7f1f</td>\n",
       "      <td>200001.0</td>\n",
       "      <td>{'lat': -10.9299886, 'lng': -37.0830428}</td>\n",
       "      <td>199906.0</td>\n",
       "      <td>Apartamentos</td>\n",
       "      <td>61.0</td>\n",
       "      <td>2.0</td>\n",
       "      <td>2.0</td>\n",
       "      <td>1.0</td>\n",
       "      <td>Jabotiana</td>\n",
       "    </tr>\n",
       "    <tr>\n",
       "      <th>6</th>\n",
       "      <td>6074591277dee513e95c7f22</td>\n",
       "      <td>430000.0</td>\n",
       "      <td>{'lat': -10.9926775, 'lng': -37.0552954}</td>\n",
       "      <td>369970.0</td>\n",
       "      <td>Apartamentos</td>\n",
       "      <td>0.0</td>\n",
       "      <td>2.0</td>\n",
       "      <td>2.0</td>\n",
       "      <td>1.0</td>\n",
       "      <td>Atalaia</td>\n",
       "    </tr>\n",
       "    <tr>\n",
       "      <th>11</th>\n",
       "      <td>6074592477dee513e95c7f27</td>\n",
       "      <td>480000.0</td>\n",
       "      <td>{'lat': -10.9282507, 'lng': -37.056637}</td>\n",
       "      <td>554047.0</td>\n",
       "      <td>Apartamentos</td>\n",
       "      <td>140.0</td>\n",
       "      <td>4.0</td>\n",
       "      <td>4.0</td>\n",
       "      <td>2.0</td>\n",
       "      <td>Salgado Filho</td>\n",
       "    </tr>\n",
       "  </tbody>\n",
       "</table>\n",
       "</div>"
      ],
      "text/plain": [
       "                          id     value  \\\n",
       "3   6074590677dee513e95c7f1f  200001.0   \n",
       "6   6074591277dee513e95c7f22  430000.0   \n",
       "11  6074592477dee513e95c7f27  480000.0   \n",
       "\n",
       "                                    location  price_suggested     categoria  \\\n",
       "3   {'lat': -10.9299886, 'lng': -37.0830428}         199906.0  Apartamentos   \n",
       "6   {'lat': -10.9926775, 'lng': -37.0552954}         369970.0  Apartamentos   \n",
       "11   {'lat': -10.9282507, 'lng': -37.056637}         554047.0  Apartamentos   \n",
       "\n",
       "     area  rooms  bathrooms  garages  district_name  \n",
       "3    61.0    2.0        2.0      1.0      Jabotiana  \n",
       "6     0.0    2.0        2.0      1.0        Atalaia  \n",
       "11  140.0    4.0        4.0      2.0  Salgado Filho  "
      ]
     },
     "execution_count": 3,
     "metadata": {},
     "output_type": "execute_result"
    }
   ],
   "source": [
    "df_imoveis.head(3)"
   ]
  },
  {
   "cell_type": "markdown",
   "id": "5bfaee4a-73bd-47e1-82cf-2a0bf94cec89",
   "metadata": {},
   "source": [
    "## Bairros válidos"
   ]
  },
  {
   "cell_type": "code",
   "execution_count": 4,
   "id": "56d35c5c-d650-426b-8788-4e2fb24db73f",
   "metadata": {},
   "outputs": [],
   "source": [
    "AVAILABLE_DISTRICTS = ['Jabotiana', 'Atalaia', 'Salgado Filho', 'Lamarão', 'Grageru',\n",
    "                       'Luzia', 'Jardins', 'Farolândia', 'Coroa do Meio', 'Ponto Novo',\n",
    "                       'Suíssa', 'Centro', 'São Conrado', 'Inácio Barbosa', 'São José',\n",
    "                       'Zona de Expansão (Mosqueiro)', 'Treze de Julho',\n",
    "                       'Dezoito do Forte', 'Aeroporto', 'Zona de Expansão (Aruana)',\n",
    "                       'Siqueira Campos', 'Pereira Lobo', 'Jardim Centenário',\n",
    "                       'Santa Maria', 'Dom Luciano', 'Olaria', 'Santos Dumont', 'América',\n",
    "                       'Santo Antônio', 'Getúlio Vargas', 'Cirurgia', 'Industrial',\n",
    "                       \"Porto D'Antas\", '18 do Forte', 'José Conrado de Araújo',\n",
    "                       'Cidade Nova', 'Zona de Expansão (Robalo)', '13 De Julho',\n",
    "                       'Palestina', 'Soledade', 'Japãozinho']"
   ]
  },
  {
   "cell_type": "markdown",
   "id": "1c4d1145-8af8-41ba-9bea-15594c5190c5",
   "metadata": {},
   "source": [
    "## Preferências do Usuário "
   ]
  },
  {
   "cell_type": "code",
   "execution_count": 13,
   "id": "bb7e0af2-f927-49db-9489-55a0b8ba2be6",
   "metadata": {},
   "outputs": [],
   "source": [
    "params = {\n",
    "    \"value\": 300000,        # Valor em Reais (R$)\n",
    "    \"rooms\": 3,             # Número de quartos\n",
    "    \"area\": 80,             # Área do imóvel em metros quadrados\n",
    "    \"bathrooms\": 2,         # Número de banheiros do imóvel\n",
    "    \"garages\": 1,           # Número de garagens do imóvel\n",
    "    \"district\": \"Atalaia\"   # Bairro onde se localiza o imóvel\n",
    "}"
   ]
  },
  {
   "cell_type": "markdown",
   "id": "dd428b4b-450b-420e-84d5-2d36d5a9f14b",
   "metadata": {},
   "source": [
    "## Validar parametros "
   ]
  },
  {
   "cell_type": "code",
   "execution_count": 16,
   "id": "370dd363-90b4-42af-a592-8cdb9faba868",
   "metadata": {},
   "outputs": [],
   "source": [
    "from utils import valid_params\n",
    "\n",
    "error = valid_params(params)\n",
    "if error != None:\n",
    "    print(error)"
   ]
  },
  {
   "cell_type": "markdown",
   "id": "dec01eb6-68e2-4874-9c90-e62835aca459",
   "metadata": {},
   "source": [
    "## Preparar os parametros"
   ]
  },
  {
   "cell_type": "code",
   "execution_count": 20,
   "id": "96d85375-4d80-4587-8b8c-a83efd29bb88",
   "metadata": {},
   "outputs": [],
   "source": [
    "from utils import prepare_params\n",
    "\n",
    "prepared_params, error = prepare_params(params)"
   ]
  },
  {
   "cell_type": "code",
   "execution_count": 21,
   "id": "590ca502-4d5d-44a0-8ca7-7f945951874e",
   "metadata": {},
   "outputs": [
    {
     "data": {
      "text/plain": [
       "{'value': 300000.0,\n",
       " 'rooms': 3.0,\n",
       " 'area': 80.0,\n",
       " 'bathrooms': 2.0,\n",
       " 'garages': 1.0,\n",
       " 'district': 'Atalaia'}"
      ]
     },
     "execution_count": 21,
     "metadata": {},
     "output_type": "execute_result"
    }
   ],
   "source": [
    "prepared_params"
   ]
  },
  {
   "cell_type": "markdown",
   "id": "df595fca-65e7-48e4-a657-9cbaaeca16ea",
   "metadata": {},
   "source": [
    "## Alterar a base de acordo com os parametros"
   ]
  },
  {
   "cell_type": "code",
   "execution_count": 22,
   "id": "9a4c5bb0-1b54-421b-a973-ae0b87546d69",
   "metadata": {},
   "outputs": [
    {
     "data": {
      "text/html": [
       "<div>\n",
       "<style scoped>\n",
       "    .dataframe tbody tr th:only-of-type {\n",
       "        vertical-align: middle;\n",
       "    }\n",
       "\n",
       "    .dataframe tbody tr th {\n",
       "        vertical-align: top;\n",
       "    }\n",
       "\n",
       "    .dataframe thead th {\n",
       "        text-align: right;\n",
       "    }\n",
       "</style>\n",
       "<table border=\"1\" class=\"dataframe\">\n",
       "  <thead>\n",
       "    <tr style=\"text-align: right;\">\n",
       "      <th></th>\n",
       "      <th>id</th>\n",
       "      <th>value</th>\n",
       "      <th>location</th>\n",
       "      <th>price_suggested</th>\n",
       "      <th>categoria</th>\n",
       "      <th>area</th>\n",
       "      <th>rooms</th>\n",
       "      <th>bathrooms</th>\n",
       "      <th>garages</th>\n",
       "      <th>district_name</th>\n",
       "      <th>distance</th>\n",
       "      <th>district</th>\n",
       "    </tr>\n",
       "  </thead>\n",
       "  <tbody>\n",
       "    <tr>\n",
       "      <th>3</th>\n",
       "      <td>6074590677dee513e95c7f1f</td>\n",
       "      <td>200001.0</td>\n",
       "      <td>{'lat': -10.9299886, 'lng': -37.0830428}</td>\n",
       "      <td>199906.0</td>\n",
       "      <td>Apartamentos</td>\n",
       "      <td>61.0</td>\n",
       "      <td>2.0</td>\n",
       "      <td>2.0</td>\n",
       "      <td>1.0</td>\n",
       "      <td>Jabotiana</td>\n",
       "      <td>7.193320</td>\n",
       "      <td>0.0</td>\n",
       "    </tr>\n",
       "    <tr>\n",
       "      <th>6</th>\n",
       "      <td>6074591277dee513e95c7f22</td>\n",
       "      <td>430000.0</td>\n",
       "      <td>{'lat': -10.9926775, 'lng': -37.0552954}</td>\n",
       "      <td>369970.0</td>\n",
       "      <td>Apartamentos</td>\n",
       "      <td>0.0</td>\n",
       "      <td>2.0</td>\n",
       "      <td>2.0</td>\n",
       "      <td>1.0</td>\n",
       "      <td>Atalaia</td>\n",
       "      <td>0.547648</td>\n",
       "      <td>1.0</td>\n",
       "    </tr>\n",
       "    <tr>\n",
       "      <th>11</th>\n",
       "      <td>6074592477dee513e95c7f27</td>\n",
       "      <td>480000.0</td>\n",
       "      <td>{'lat': -10.9282507, 'lng': -37.056637}</td>\n",
       "      <td>554047.0</td>\n",
       "      <td>Apartamentos</td>\n",
       "      <td>140.0</td>\n",
       "      <td>4.0</td>\n",
       "      <td>4.0</td>\n",
       "      <td>2.0</td>\n",
       "      <td>Salgado Filho</td>\n",
       "      <td>6.626499</td>\n",
       "      <td>0.0</td>\n",
       "    </tr>\n",
       "  </tbody>\n",
       "</table>\n",
       "</div>"
      ],
      "text/plain": [
       "                          id     value  \\\n",
       "3   6074590677dee513e95c7f1f  200001.0   \n",
       "6   6074591277dee513e95c7f22  430000.0   \n",
       "11  6074592477dee513e95c7f27  480000.0   \n",
       "\n",
       "                                    location  price_suggested     categoria  \\\n",
       "3   {'lat': -10.9299886, 'lng': -37.0830428}         199906.0  Apartamentos   \n",
       "6   {'lat': -10.9926775, 'lng': -37.0552954}         369970.0  Apartamentos   \n",
       "11   {'lat': -10.9282507, 'lng': -37.056637}         554047.0  Apartamentos   \n",
       "\n",
       "     area  rooms  bathrooms  garages  district_name  distance  district  \n",
       "3    61.0    2.0        2.0      1.0      Jabotiana  7.193320       0.0  \n",
       "6     0.0    2.0        2.0      1.0        Atalaia  0.547648       1.0  \n",
       "11  140.0    4.0        4.0      2.0  Salgado Filho  6.626499       0.0  "
      ]
     },
     "execution_count": 22,
     "metadata": {},
     "output_type": "execute_result"
    }
   ],
   "source": [
    "from utils import handle_dataframe_values\n",
    "\n",
    "df_to_algorithm, params_to_algorithm = handle_dataframe_values(df_imoveis, prepared_params)\n",
    "df_to_algorithm.head(3)"
   ]
  },
  {
   "cell_type": "markdown",
   "id": "b79c92ad-8e01-4f2b-b745-dd2cb9cc12db",
   "metadata": {},
   "source": [
    "## Definição dos pesos de cada caracteristica"
   ]
  },
  {
   "cell_type": "code",
   "execution_count": 23,
   "id": "d366af4a-d5c3-47e3-8080-9215be977f20",
   "metadata": {},
   "outputs": [],
   "source": [
    "weights = {\n",
    "    'value': [30.0],\n",
    "    'rooms': [10.0],\n",
    "    'area': [10.0],\n",
    "    'bathrooms': [10.0],\n",
    "    'garages': [10.0],\n",
    "    'district': [10.0],\n",
    "    'distance': [10.0]\n",
    "}"
   ]
  },
  {
   "cell_type": "markdown",
   "id": "8b784ec1-6d28-412c-a43c-ecd1e83562b9",
   "metadata": {},
   "source": [
    "## Aplicando Algoritmo de Recomendação"
   ]
  },
  {
   "cell_type": "code",
   "execution_count": 24,
   "id": "a15b2a01-f6f6-49a0-8e22-62ab60dbf4a7",
   "metadata": {},
   "outputs": [
    {
     "data": {
      "text/html": [
       "<div>\n",
       "<style scoped>\n",
       "    .dataframe tbody tr th:only-of-type {\n",
       "        vertical-align: middle;\n",
       "    }\n",
       "\n",
       "    .dataframe tbody tr th {\n",
       "        vertical-align: top;\n",
       "    }\n",
       "\n",
       "    .dataframe thead th {\n",
       "        text-align: right;\n",
       "    }\n",
       "</style>\n",
       "<table border=\"1\" class=\"dataframe\">\n",
       "  <thead>\n",
       "    <tr style=\"text-align: right;\">\n",
       "      <th></th>\n",
       "      <th>id</th>\n",
       "      <th>value</th>\n",
       "      <th>location</th>\n",
       "      <th>price_suggested</th>\n",
       "      <th>categoria</th>\n",
       "      <th>area</th>\n",
       "      <th>rooms</th>\n",
       "      <th>bathrooms</th>\n",
       "      <th>garages</th>\n",
       "      <th>district_name</th>\n",
       "      <th>distance</th>\n",
       "      <th>district</th>\n",
       "      <th>similarity</th>\n",
       "      <th>similarity_index</th>\n",
       "    </tr>\n",
       "  </thead>\n",
       "  <tbody>\n",
       "    <tr>\n",
       "      <th>0</th>\n",
       "      <td>607f33ac4c5fd7aeae9a73c5</td>\n",
       "      <td>300000.0</td>\n",
       "      <td>{'lat': -10.9923802, 'lng': -37.0541356}</td>\n",
       "      <td>327663.0</td>\n",
       "      <td>Apartamentos</td>\n",
       "      <td>80.0</td>\n",
       "      <td>3.0</td>\n",
       "      <td>2.0</td>\n",
       "      <td>1.0</td>\n",
       "      <td>Atalaia</td>\n",
       "      <td>0.482151</td>\n",
       "      <td>1.0</td>\n",
       "      <td>2.697004</td>\n",
       "      <td>1413</td>\n",
       "    </tr>\n",
       "    <tr>\n",
       "      <th>1</th>\n",
       "      <td>607e8a51092e9f82c3b1eba2</td>\n",
       "      <td>285000.0</td>\n",
       "      <td>{'lat': -10.9917458, 'lng': -37.0556308}</td>\n",
       "      <td>321778.0</td>\n",
       "      <td>Apartamentos</td>\n",
       "      <td>77.0</td>\n",
       "      <td>3.0</td>\n",
       "      <td>2.0</td>\n",
       "      <td>1.0</td>\n",
       "      <td>Atalaia</td>\n",
       "      <td>0.470860</td>\n",
       "      <td>1.0</td>\n",
       "      <td>3.304200</td>\n",
       "      <td>1325</td>\n",
       "    </tr>\n",
       "    <tr>\n",
       "      <th>2</th>\n",
       "      <td>60863bbaed763b6b79f5cb34</td>\n",
       "      <td>170000.0</td>\n",
       "      <td>{'lat': -10.9720242, 'lng': -37.07319}</td>\n",
       "      <td>154707.0</td>\n",
       "      <td>Apartamentos</td>\n",
       "      <td>65.0</td>\n",
       "      <td>3.0</td>\n",
       "      <td>1.0</td>\n",
       "      <td>1.0</td>\n",
       "      <td>Farolândia</td>\n",
       "      <td>2.793969</td>\n",
       "      <td>0.0</td>\n",
       "      <td>3.377305</td>\n",
       "      <td>2207</td>\n",
       "    </tr>\n",
       "  </tbody>\n",
       "</table>\n",
       "</div>"
      ],
      "text/plain": [
       "                         id     value  \\\n",
       "0  607f33ac4c5fd7aeae9a73c5  300000.0   \n",
       "1  607e8a51092e9f82c3b1eba2  285000.0   \n",
       "2  60863bbaed763b6b79f5cb34  170000.0   \n",
       "\n",
       "                                   location  price_suggested     categoria  \\\n",
       "0  {'lat': -10.9923802, 'lng': -37.0541356}         327663.0  Apartamentos   \n",
       "1  {'lat': -10.9917458, 'lng': -37.0556308}         321778.0  Apartamentos   \n",
       "2    {'lat': -10.9720242, 'lng': -37.07319}         154707.0  Apartamentos   \n",
       "\n",
       "   area  rooms  bathrooms  garages district_name  distance  district  \\\n",
       "0  80.0    3.0        2.0      1.0       Atalaia  0.482151       1.0   \n",
       "1  77.0    3.0        2.0      1.0       Atalaia  0.470860       1.0   \n",
       "2  65.0    3.0        1.0      1.0    Farolândia  2.793969       0.0   \n",
       "\n",
       "   similarity  similarity_index  \n",
       "0    2.697004              1413  \n",
       "1    3.304200              1325  \n",
       "2    3.377305              2207  "
      ]
     },
     "execution_count": 24,
     "metadata": {},
     "output_type": "execute_result"
    }
   ],
   "source": [
    "from utils import mahalanobis_algorithm\n",
    "\n",
    "sorted_values = mahalanobis_algorithm(df_to_algorithm, params_to_algorithm, weights)\n",
    "\n",
    "result = {}\n",
    "for index in range(3):\n",
    "    aux = df_to_algorithm.iloc[sorted_values.iloc[index].name].to_dict()\n",
    "    aux['similarity'] = sorted_values.iloc[index][0]\n",
    "    aux['similarity_index'] = int(sorted_values.iloc[index].name)\n",
    "\n",
    "    result.update({index: aux})\n",
    "    df_to_algorithm = df_to_algorithm[df_to_algorithm.id != aux['id']]\n",
    "    \n",
    "pd.DataFrame.from_dict(result, orient=\"index\")"
   ]
  },
  {
   "cell_type": "code",
   "execution_count": null,
   "id": "2bf7a73c-b071-470f-a5f8-75d3df33154a",
   "metadata": {},
   "outputs": [],
   "source": []
  },
  {
   "cell_type": "code",
   "execution_count": null,
   "id": "0e95b080-0d07-4bef-8b80-e40484c9ee22",
   "metadata": {},
   "outputs": [],
   "source": []
  }
 ],
 "metadata": {
  "kernelspec": {
   "display_name": "Python 3 (ipykernel)",
   "language": "python",
   "name": "python3"
  },
  "language_info": {
   "codemirror_mode": {
    "name": "ipython",
    "version": 3
   },
   "file_extension": ".py",
   "mimetype": "text/x-python",
   "name": "python",
   "nbconvert_exporter": "python",
   "pygments_lexer": "ipython3",
   "version": "3.8.3"
  }
 },
 "nbformat": 4,
 "nbformat_minor": 5
}
