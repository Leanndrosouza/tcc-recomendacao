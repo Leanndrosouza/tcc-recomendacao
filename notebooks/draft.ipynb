{
 "cells": [
  {
   "cell_type": "code",
   "execution_count": 2,
   "metadata": {},
   "outputs": [],
   "source": [
    "import pandas as pd\n",
    "import re\n",
    "from utils import mahalanobis_algorithm, valid_params, prepare_params, load_properties"
   ]
  },
  {
   "cell_type": "code",
   "execution_count": 3,
   "metadata": {},
   "outputs": [],
   "source": [
    "df = pd.read_json(\"assets/olx_location.json\", orient=\"records\", convert_dates=False)\n",
    "df = df.drop([\"titulo\", \"descricao\", \"created_at\", \"codigo\"], axis=1)\n",
    "df = pd.concat([df.drop([\"data_publicacao\", \"caracteristicas\"], axis=1), df['caracteristicas'].apply(pd.Series)], axis=1)\n",
    "df = df.drop([\"tipo\", \"cep\", \"municipio\", \"logradouro\", \"detalhes_do_imovel\", \"detalhes_do_condominio\", \"condominio\", \"iptu\"], axis=1)\n",
    "df = df.dropna()\n",
    "df = df.rename({'preco': 'value', 'quartos': 'rooms', 'area_util': 'area'}, axis=1)\n",
    "# df['bairro'] = df['bairro'].apply(lambda x: float(x == 'Jabotiana'))\n",
    "df['value'] = df['value'].apply(lambda x: re.sub('[^0-9]','', x))\n",
    "df['value'] = df['value'].astype(float)\n",
    "df['rooms'] = df['rooms'].apply(lambda x: re.sub('[^0-9]','', x))\n",
    "df['rooms'] = df['rooms'].astype(float)\n",
    "df['area'] = df['area'].apply(lambda x: re.sub('[^0-9]','', x))\n",
    "df['area'] = df['area'].astype(float)"
   ]
  },
  {
   "cell_type": "code",
   "execution_count": 6,
   "metadata": {},
   "outputs": [
    {
     "data": {
      "text/plain": [
       "3     {'lat': -10.9443913, 'lng': -37.0877802}\n",
       "6     {'lat': -10.9880742, 'lng': -37.0534508}\n",
       "11     {'lat': -10.9289225, 'lng': -37.056472}\n",
       "12    {'lat': -10.8923572, 'lng': -37.0658592}\n",
       "13     {'lat': -10.942472, 'lng': -37.0631421}\n",
       "Name: localizacao, dtype: object"
      ]
     },
     "execution_count": 6,
     "metadata": {},
     "output_type": "execute_result"
    }
   ],
   "source": [
    "df.localizacao.head()"
   ]
  },
  {
   "cell_type": "code",
   "execution_count": 3,
   "metadata": {},
   "outputs": [],
   "source": [
    "params = {'value': 10000.0, 'rooms': 3.0, 'area': 0.5}\n",
    "\n",
    "weights = {'value': [10.0], 'rooms': [3.0], 'area': [0.5]}\n",
    "\n",
    "sorted_values = mahalanobis_algorithm(df, params, weights)"
   ]
  },
  {
   "cell_type": "code",
   "execution_count": null,
   "metadata": {},
   "outputs": [],
   "source": []
  },
  {
   "cell_type": "code",
   "execution_count": 4,
   "metadata": {},
   "outputs": [
    {
     "data": {
      "text/plain": [
       "value                          0\n",
       "categoria           Apartamentos\n",
       "area                           0\n",
       "rooms                          3\n",
       "banheiros                      0\n",
       "vagas_na_garagem               0\n",
       "bairro                   Grageru\n",
       "Name: 576, dtype: object"
      ]
     },
     "execution_count": 4,
     "metadata": {},
     "output_type": "execute_result"
    }
   ],
   "source": [
    "sorted_values.iloc[2].name\n",
    "\n",
    "df.iloc[sorted_values.iloc[2].name]"
   ]
  },
  {
   "cell_type": "code",
   "execution_count": 14,
   "metadata": {},
   "outputs": [
    {
     "data": {
      "text/html": [
       "<div>\n",
       "<style scoped>\n",
       "    .dataframe tbody tr th:only-of-type {\n",
       "        vertical-align: middle;\n",
       "    }\n",
       "\n",
       "    .dataframe tbody tr th {\n",
       "        vertical-align: top;\n",
       "    }\n",
       "\n",
       "    .dataframe thead th {\n",
       "        text-align: right;\n",
       "    }\n",
       "</style>\n",
       "<table border=\"1\" class=\"dataframe\">\n",
       "  <thead>\n",
       "    <tr style=\"text-align: right;\">\n",
       "      <th></th>\n",
       "      <th>value</th>\n",
       "      <th>localizacao</th>\n",
       "      <th>categoria</th>\n",
       "      <th>area</th>\n",
       "      <th>rooms</th>\n",
       "      <th>banheiros</th>\n",
       "      <th>vagas_na_garagem</th>\n",
       "      <th>bairro</th>\n",
       "    </tr>\n",
       "  </thead>\n",
       "  <tbody>\n",
       "    <tr>\n",
       "      <th>3</th>\n",
       "      <td>200001.0</td>\n",
       "      <td>{'lat': -10.9443913, 'lng': -37.0877802}</td>\n",
       "      <td>Apartamentos</td>\n",
       "      <td>61.0</td>\n",
       "      <td>2.0</td>\n",
       "      <td>2</td>\n",
       "      <td>1</td>\n",
       "      <td>False</td>\n",
       "    </tr>\n",
       "    <tr>\n",
       "      <th>6</th>\n",
       "      <td>430000.0</td>\n",
       "      <td>{'lat': -10.9880742, 'lng': -37.0534508}</td>\n",
       "      <td>Apartamentos</td>\n",
       "      <td>0.0</td>\n",
       "      <td>2.0</td>\n",
       "      <td>2</td>\n",
       "      <td>1</td>\n",
       "      <td>False</td>\n",
       "    </tr>\n",
       "    <tr>\n",
       "      <th>11</th>\n",
       "      <td>480000.0</td>\n",
       "      <td>{'lat': -10.9289225, 'lng': -37.056472}</td>\n",
       "      <td>Apartamentos</td>\n",
       "      <td>140.0</td>\n",
       "      <td>4.0</td>\n",
       "      <td>4</td>\n",
       "      <td>2</td>\n",
       "      <td>False</td>\n",
       "    </tr>\n",
       "    <tr>\n",
       "      <th>12</th>\n",
       "      <td>95000.0</td>\n",
       "      <td>{'lat': -10.8923572, 'lng': -37.0658592}</td>\n",
       "      <td>Apartamentos</td>\n",
       "      <td>45.0</td>\n",
       "      <td>2.0</td>\n",
       "      <td>1</td>\n",
       "      <td>1</td>\n",
       "      <td>False</td>\n",
       "    </tr>\n",
       "    <tr>\n",
       "      <th>13</th>\n",
       "      <td>940019.0</td>\n",
       "      <td>{'lat': -10.942472, 'lng': -37.0631421}</td>\n",
       "      <td>Apartamentos</td>\n",
       "      <td>140.0</td>\n",
       "      <td>3.0</td>\n",
       "      <td>4</td>\n",
       "      <td>2</td>\n",
       "      <td>False</td>\n",
       "    </tr>\n",
       "    <tr>\n",
       "      <th>...</th>\n",
       "      <td>...</td>\n",
       "      <td>...</td>\n",
       "      <td>...</td>\n",
       "      <td>...</td>\n",
       "      <td>...</td>\n",
       "      <td>...</td>\n",
       "      <td>...</td>\n",
       "      <td>...</td>\n",
       "    </tr>\n",
       "    <tr>\n",
       "      <th>5073</th>\n",
       "      <td>156000.0</td>\n",
       "      <td>{'lat': -10.9220714, 'lng': -37.0534508}</td>\n",
       "      <td>Apartamentos</td>\n",
       "      <td>0.0</td>\n",
       "      <td>2.0</td>\n",
       "      <td>0</td>\n",
       "      <td>0</td>\n",
       "      <td>False</td>\n",
       "    </tr>\n",
       "    <tr>\n",
       "      <th>5074</th>\n",
       "      <td>220000.0</td>\n",
       "      <td>{'lat': -10.9676621, 'lng': -37.0652424}</td>\n",
       "      <td>Apartamentos</td>\n",
       "      <td>78.0</td>\n",
       "      <td>3.0</td>\n",
       "      <td>1</td>\n",
       "      <td>1</td>\n",
       "      <td>False</td>\n",
       "    </tr>\n",
       "    <tr>\n",
       "      <th>5075</th>\n",
       "      <td>280050.0</td>\n",
       "      <td>{'lat': -10.937662, 'lng': -37.0669489}</td>\n",
       "      <td>Apartamentos</td>\n",
       "      <td>123.0</td>\n",
       "      <td>4.0</td>\n",
       "      <td>3</td>\n",
       "      <td>1</td>\n",
       "      <td>False</td>\n",
       "    </tr>\n",
       "    <tr>\n",
       "      <th>5077</th>\n",
       "      <td>0.0</td>\n",
       "      <td>{'lat': -10.9546401, 'lng': -37.0688142}</td>\n",
       "      <td>Apartamentos</td>\n",
       "      <td>64.0</td>\n",
       "      <td>3.0</td>\n",
       "      <td>2</td>\n",
       "      <td>1</td>\n",
       "      <td>False</td>\n",
       "    </tr>\n",
       "    <tr>\n",
       "      <th>5078</th>\n",
       "      <td>110000.0</td>\n",
       "      <td>{'lat': -10.9676621, 'lng': -37.0652424}</td>\n",
       "      <td>Apartamentos</td>\n",
       "      <td>60.0</td>\n",
       "      <td>3.0</td>\n",
       "      <td>1</td>\n",
       "      <td>1</td>\n",
       "      <td>False</td>\n",
       "    </tr>\n",
       "  </tbody>\n",
       "</table>\n",
       "<p>3252 rows × 8 columns</p>\n",
       "</div>"
      ],
      "text/plain": [
       "         value                               localizacao     categoria   area  \\\n",
       "3     200001.0  {'lat': -10.9443913, 'lng': -37.0877802}  Apartamentos   61.0   \n",
       "6     430000.0  {'lat': -10.9880742, 'lng': -37.0534508}  Apartamentos    0.0   \n",
       "11    480000.0   {'lat': -10.9289225, 'lng': -37.056472}  Apartamentos  140.0   \n",
       "12     95000.0  {'lat': -10.8923572, 'lng': -37.0658592}  Apartamentos   45.0   \n",
       "13    940019.0   {'lat': -10.942472, 'lng': -37.0631421}  Apartamentos  140.0   \n",
       "...        ...                                       ...           ...    ...   \n",
       "5073  156000.0  {'lat': -10.9220714, 'lng': -37.0534508}  Apartamentos    0.0   \n",
       "5074  220000.0  {'lat': -10.9676621, 'lng': -37.0652424}  Apartamentos   78.0   \n",
       "5075  280050.0   {'lat': -10.937662, 'lng': -37.0669489}  Apartamentos  123.0   \n",
       "5077       0.0  {'lat': -10.9546401, 'lng': -37.0688142}  Apartamentos   64.0   \n",
       "5078  110000.0  {'lat': -10.9676621, 'lng': -37.0652424}  Apartamentos   60.0   \n",
       "\n",
       "      rooms banheiros vagas_na_garagem  bairro  \n",
       "3       2.0         2                1   False  \n",
       "6       2.0         2                1   False  \n",
       "11      4.0         4                2   False  \n",
       "12      2.0         1                1   False  \n",
       "13      3.0         4                2   False  \n",
       "...     ...       ...              ...     ...  \n",
       "5073    2.0         0                0   False  \n",
       "5074    3.0         1                1   False  \n",
       "5075    4.0         3                1   False  \n",
       "5077    3.0         2                1   False  \n",
       "5078    3.0         1                1   False  \n",
       "\n",
       "[3252 rows x 8 columns]"
      ]
     },
     "execution_count": 14,
     "metadata": {},
     "output_type": "execute_result"
    }
   ],
   "source": [
    "df"
   ]
  },
  {
   "cell_type": "code",
   "execution_count": 49,
   "metadata": {},
   "outputs": [
    {
     "data": {
      "text/plain": [
       "array(['Jabotiana', 'Atalaia', 'Salgado Filho', 'Lamarão', 'Grageru',\n",
       "       'Luzia', 'Jardins', 'Farolândia', 'Coroa do Meio', 'Ponto Novo',\n",
       "       'Suíssa', 'Centro', 'São Conrado', 'Inácio Barbosa', 'São José',\n",
       "       'Zona de Expansão (Mosqueiro)', 'Treze de Julho',\n",
       "       'Dezoito do Forte', 'Aeroporto', 'Zona de Expansão (Aruana)',\n",
       "       'Siqueira Campos', 'Pereira Lobo', 'Jardim Centenário',\n",
       "       'Santa Maria', 'Dom Luciano', 'Olaria', 'Santos Dumont', 'América',\n",
       "       'Santo Antônio', 'Getúlio Vargas', 'Cirurgia', 'Industrial',\n",
       "       \"Porto D'Antas\", '18 do Forte', 'José Conrado de Araújo',\n",
       "       'Cidade Nova', 'Zona de Expansão (Robalo)', '13 De Julho',\n",
       "       'Palestina', 'Soledade', 'Japãozinho'], dtype=object)"
      ]
     },
     "execution_count": 49,
     "metadata": {},
     "output_type": "execute_result"
    }
   ],
   "source": [
    "df['bairro'].unique()"
   ]
  },
  {
   "cell_type": "code",
   "execution_count": null,
   "metadata": {},
   "outputs": [],
   "source": []
  }
 ],
 "metadata": {
  "kernelspec": {
   "display_name": "Python 3",
   "language": "python",
   "name": "python3"
  },
  "language_info": {
   "codemirror_mode": {
    "name": "ipython",
    "version": 3
   },
   "file_extension": ".py",
   "mimetype": "text/x-python",
   "name": "python",
   "nbconvert_exporter": "python",
   "pygments_lexer": "ipython3",
   "version": "3.8.5"
  }
 },
 "nbformat": 4,
 "nbformat_minor": 4
}
